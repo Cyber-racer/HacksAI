{
 "cells": [
  {
   "cell_type": "markdown",
   "metadata": {
    "id": "fnE1_J-4dhSR"
   },
   "source": [
    "## Загрузим нужные библиотеки"
   ]
  },
  {
   "cell_type": "code",
   "execution_count": 1,
   "metadata": {
    "id": "uaKzqUxsdjDa"
   },
   "outputs": [],
   "source": [
    "import pandas as pd\n",
    "import seaborn as sns\n",
    "import matplotlib.pyplot as plt\n",
    "from sklearn.model_selection import train_test_split\n",
    "from sklearn.ensemble import RandomForestClassifier, RandomForestRegressor\n",
    "\n",
    "%matplotlib inline"
   ]
  },
  {
   "cell_type": "code",
   "execution_count": 2,
   "metadata": {
    "id": "2scLoULoXkT0"
   },
   "outputs": [],
   "source": [
    "df = pd.read_csv(\"train.csv\", index_col = 'id')"
   ]
  },
  {
   "cell_type": "markdown",
   "metadata": {
    "id": "WcxAsO_Md05t"
   },
   "source": [
    "## Рассмотрим датасет поближе"
   ]
  },
  {
   "cell_type": "code",
   "execution_count": 3,
   "metadata": {
    "colab": {
     "base_uri": "https://localhost:8080/",
     "height": 260
    },
    "id": "I16XfuOpXwIy",
    "outputId": "f39e62c8-ddc7-4337-9c83-023543ef5da8"
   },
   "outputs": [
    {
     "data": {
      "text/html": [
       "<div>\n",
       "<style scoped>\n",
       "    .dataframe tbody tr th:only-of-type {\n",
       "        vertical-align: middle;\n",
       "    }\n",
       "\n",
       "    .dataframe tbody tr th {\n",
       "        vertical-align: top;\n",
       "    }\n",
       "\n",
       "    .dataframe thead th {\n",
       "        text-align: right;\n",
       "    }\n",
       "</style>\n",
       "<table border=\"1\" class=\"dataframe\">\n",
       "  <thead>\n",
       "    <tr style=\"text-align: right;\">\n",
       "      <th></th>\n",
       "      <th>ticket_id</th>\n",
       "      <th>ticket_type_nm</th>\n",
       "      <th>entrance_id</th>\n",
       "      <th>entrance_nm</th>\n",
       "      <th>station_id</th>\n",
       "      <th>station_nm</th>\n",
       "      <th>line_id</th>\n",
       "      <th>line_nm</th>\n",
       "      <th>pass_dttm</th>\n",
       "      <th>time_to_under</th>\n",
       "      <th>label</th>\n",
       "    </tr>\n",
       "    <tr>\n",
       "      <th>id</th>\n",
       "      <th></th>\n",
       "      <th></th>\n",
       "      <th></th>\n",
       "      <th></th>\n",
       "      <th></th>\n",
       "      <th></th>\n",
       "      <th></th>\n",
       "      <th></th>\n",
       "      <th></th>\n",
       "      <th></th>\n",
       "      <th></th>\n",
       "    </tr>\n",
       "  </thead>\n",
       "  <tbody>\n",
       "    <tr>\n",
       "      <th>1</th>\n",
       "      <td>40BD89EC85646EFB69E283F39C298E60</td>\n",
       "      <td>Пропуск FacePay</td>\n",
       "      <td>2402</td>\n",
       "      <td>Лефортово БКЛ</td>\n",
       "      <td>11007</td>\n",
       "      <td>Лефортово</td>\n",
       "      <td>11</td>\n",
       "      <td>Большая кольцевая</td>\n",
       "      <td>2022-09-12 05:00:13</td>\n",
       "      <td>216.316667</td>\n",
       "      <td>8001</td>\n",
       "    </tr>\n",
       "    <tr>\n",
       "      <th>2</th>\n",
       "      <td>126727A96489CC976A8C08E5CEB00542</td>\n",
       "      <td>СК учащегося 30 дней</td>\n",
       "      <td>110</td>\n",
       "      <td>Войковская ( Южный )</td>\n",
       "      <td>2006</td>\n",
       "      <td>Войковская</td>\n",
       "      <td>2</td>\n",
       "      <td>Замоскворецкая</td>\n",
       "      <td>2022-09-12 05:00:54</td>\n",
       "      <td>648.183333</td>\n",
       "      <td>9011</td>\n",
       "    </tr>\n",
       "    <tr>\n",
       "      <th>3</th>\n",
       "      <td>D28CE6A9E0E5B6D213470A97CFF32485</td>\n",
       "      <td>БСК дружинника г.Москвы</td>\n",
       "      <td>110</td>\n",
       "      <td>Войковская ( Южный )</td>\n",
       "      <td>2006</td>\n",
       "      <td>Войковская</td>\n",
       "      <td>2</td>\n",
       "      <td>Замоскворецкая</td>\n",
       "      <td>2022-09-12 05:00:55</td>\n",
       "      <td>865.333333</td>\n",
       "      <td>7022</td>\n",
       "    </tr>\n",
       "    <tr>\n",
       "      <th>4</th>\n",
       "      <td>015DA44B523C062B5BFEFF3FB0E64B9E</td>\n",
       "      <td>30 дней</td>\n",
       "      <td>110</td>\n",
       "      <td>Войковская ( Южный )</td>\n",
       "      <td>2006</td>\n",
       "      <td>Войковская</td>\n",
       "      <td>2</td>\n",
       "      <td>Замоскворецкая</td>\n",
       "      <td>2022-09-12 05:01:13</td>\n",
       "      <td>1048.233333</td>\n",
       "      <td>2022</td>\n",
       "    </tr>\n",
       "    <tr>\n",
       "      <th>5</th>\n",
       "      <td>95B19C6F3A504727AC3EA56EB7E3E80F</td>\n",
       "      <td>КОШЕЛЕК</td>\n",
       "      <td>110</td>\n",
       "      <td>Войковская ( Южный )</td>\n",
       "      <td>2006</td>\n",
       "      <td>Войковская</td>\n",
       "      <td>2</td>\n",
       "      <td>Замоскворецкая</td>\n",
       "      <td>2022-09-12 05:02:55</td>\n",
       "      <td>965.600000</td>\n",
       "      <td>2017</td>\n",
       "    </tr>\n",
       "  </tbody>\n",
       "</table>\n",
       "</div>"
      ],
      "text/plain": [
       "                           ticket_id           ticket_type_nm  entrance_id  \\\n",
       "id                                                                           \n",
       "1   40BD89EC85646EFB69E283F39C298E60          Пропуск FacePay         2402   \n",
       "2   126727A96489CC976A8C08E5CEB00542     СК учащегося 30 дней          110   \n",
       "3   D28CE6A9E0E5B6D213470A97CFF32485  БСК дружинника г.Москвы          110   \n",
       "4   015DA44B523C062B5BFEFF3FB0E64B9E                  30 дней          110   \n",
       "5   95B19C6F3A504727AC3EA56EB7E3E80F                  КОШЕЛЕК          110   \n",
       "\n",
       "             entrance_nm  station_id  station_nm  line_id            line_nm  \\\n",
       "id                                                                             \n",
       "1          Лефортово БКЛ       11007   Лефортово       11  Большая кольцевая   \n",
       "2   Войковская ( Южный )        2006  Войковская        2     Замоскворецкая   \n",
       "3   Войковская ( Южный )        2006  Войковская        2     Замоскворецкая   \n",
       "4   Войковская ( Южный )        2006  Войковская        2     Замоскворецкая   \n",
       "5   Войковская ( Южный )        2006  Войковская        2     Замоскворецкая   \n",
       "\n",
       "              pass_dttm  time_to_under  label  \n",
       "id                                             \n",
       "1   2022-09-12 05:00:13     216.316667   8001  \n",
       "2   2022-09-12 05:00:54     648.183333   9011  \n",
       "3   2022-09-12 05:00:55     865.333333   7022  \n",
       "4   2022-09-12 05:01:13    1048.233333   2022  \n",
       "5   2022-09-12 05:02:55     965.600000   2017  "
      ]
     },
     "execution_count": 3,
     "metadata": {},
     "output_type": "execute_result"
    }
   ],
   "source": [
    "df.head(5)"
   ]
  },
  {
   "cell_type": "markdown",
   "metadata": {},
   "source": [
    "### Загрузим датасет о пассажиропотоке"
   ]
  },
  {
   "cell_type": "code",
   "execution_count": 4,
   "metadata": {},
   "outputs": [],
   "source": [
    "ps = pd.read_csv(\"сount_data.csv\", index_col = 0)"
   ]
  },
  {
   "cell_type": "code",
   "execution_count": 5,
   "metadata": {},
   "outputs": [
    {
     "data": {
      "text/html": [
       "<div>\n",
       "<style scoped>\n",
       "    .dataframe tbody tr th:only-of-type {\n",
       "        vertical-align: middle;\n",
       "    }\n",
       "\n",
       "    .dataframe tbody tr th {\n",
       "        vertical-align: top;\n",
       "    }\n",
       "\n",
       "    .dataframe thead th {\n",
       "        text-align: right;\n",
       "    }\n",
       "</style>\n",
       "<table border=\"1\" class=\"dataframe\">\n",
       "  <thead>\n",
       "    <tr style=\"text-align: right;\">\n",
       "      <th></th>\n",
       "      <th>station_nm</th>\n",
       "      <th>line_nm</th>\n",
       "      <th>IncomingPassengers</th>\n",
       "      <th>OutgoingPassengers</th>\n",
       "    </tr>\n",
       "  </thead>\n",
       "  <tbody>\n",
       "    <tr>\n",
       "      <th>1657</th>\n",
       "      <td>Славянский бульвар</td>\n",
       "      <td>Арбатско-Покровская</td>\n",
       "      <td>4678969</td>\n",
       "      <td>4571330</td>\n",
       "    </tr>\n",
       "    <tr>\n",
       "      <th>1658</th>\n",
       "      <td>Партизанская</td>\n",
       "      <td>Арбатско-Покровская</td>\n",
       "      <td>1774348</td>\n",
       "      <td>1679955</td>\n",
       "    </tr>\n",
       "    <tr>\n",
       "      <th>1659</th>\n",
       "      <td>Народное Ополчение</td>\n",
       "      <td>Большая кольцевая</td>\n",
       "      <td>1492783</td>\n",
       "      <td>1499812</td>\n",
       "    </tr>\n",
       "    <tr>\n",
       "      <th>1660</th>\n",
       "      <td>Динамо</td>\n",
       "      <td>Замоскворецкая</td>\n",
       "      <td>2416479</td>\n",
       "      <td>2487168</td>\n",
       "    </tr>\n",
       "    <tr>\n",
       "      <th>1661</th>\n",
       "      <td>Медведково</td>\n",
       "      <td>Калужско-Рижская</td>\n",
       "      <td>4397492</td>\n",
       "      <td>4240594</td>\n",
       "    </tr>\n",
       "  </tbody>\n",
       "</table>\n",
       "</div>"
      ],
      "text/plain": [
       "              station_nm              line_nm  IncomingPassengers  \\\n",
       "1657  Славянский бульвар  Арбатско-Покровская             4678969   \n",
       "1658        Партизанская  Арбатско-Покровская             1774348   \n",
       "1659  Народное Ополчение    Большая кольцевая             1492783   \n",
       "1660              Динамо       Замоскворецкая             2416479   \n",
       "1661          Медведково     Калужско-Рижская             4397492   \n",
       "\n",
       "      OutgoingPassengers  \n",
       "1657             4571330  \n",
       "1658             1679955  \n",
       "1659             1499812  \n",
       "1660             2487168  \n",
       "1661             4240594  "
      ]
     },
     "execution_count": 5,
     "metadata": {},
     "output_type": "execute_result"
    }
   ],
   "source": [
    "ps.head()"
   ]
  },
  {
   "cell_type": "code",
   "execution_count": 6,
   "metadata": {},
   "outputs": [],
   "source": [
    "df = df.merge(ps, on=['station_nm','line_nm'], how='left')"
   ]
  },
  {
   "cell_type": "code",
   "execution_count": 7,
   "metadata": {},
   "outputs": [],
   "source": [
    "ps.drop_duplicates(subset='station_nm', keep='first', inplace=True)"
   ]
  },
  {
   "cell_type": "code",
   "execution_count": 8,
   "metadata": {},
   "outputs": [],
   "source": [
    "df = df.merge(ps, on=['station_nm'], how='left')"
   ]
  },
  {
   "cell_type": "code",
   "execution_count": 9,
   "metadata": {},
   "outputs": [],
   "source": [
    "df.drop('line_nm_y', axis =1, inplace = True)"
   ]
  },
  {
   "cell_type": "code",
   "execution_count": 10,
   "metadata": {},
   "outputs": [],
   "source": [
    "df['IncomingPassengers_x']=df['IncomingPassengers_x'].fillna(df['IncomingPassengers_y'])\n",
    "df['OutgoingPassengers_x']=df['OutgoingPassengers_x'].fillna(df['OutgoingPassengers_y'])"
   ]
  },
  {
   "cell_type": "code",
   "execution_count": 11,
   "metadata": {},
   "outputs": [],
   "source": [
    "df.drop(['IncomingPassengers_y', 'OutgoingPassengers_y'], axis =1, inplace = True)\n",
    "df = df.rename(columns= {'IncomingPassengers_x': 'IncomingPassengers', \n",
    "                         'OutgoingPassengers_x': 'OutgoingPassengers',\n",
    "                         'line_nm_x': 'line_nm'\n",
    "                        })"
   ]
  },
  {
   "cell_type": "code",
   "execution_count": 12,
   "metadata": {},
   "outputs": [
    {
     "name": "stdout",
     "output_type": "stream",
     "text": [
      "<class 'pandas.core.frame.DataFrame'>\n",
      "Int64Index: 1091021 entries, 0 to 1091020\n",
      "Data columns (total 13 columns):\n",
      " #   Column              Non-Null Count    Dtype  \n",
      "---  ------              --------------    -----  \n",
      " 0   ticket_id           1091021 non-null  object \n",
      " 1   ticket_type_nm      1091021 non-null  object \n",
      " 2   entrance_id         1091021 non-null  int64  \n",
      " 3   entrance_nm         1091021 non-null  object \n",
      " 4   station_id          1091021 non-null  int64  \n",
      " 5   station_nm          1091021 non-null  object \n",
      " 6   line_id             1091021 non-null  int64  \n",
      " 7   line_nm             1091021 non-null  object \n",
      " 8   pass_dttm           1091021 non-null  object \n",
      " 9   time_to_under       1091021 non-null  float64\n",
      " 10  label               1091021 non-null  int64  \n",
      " 11  IncomingPassengers  1091021 non-null  float64\n",
      " 12  OutgoingPassengers  1091021 non-null  float64\n",
      "dtypes: float64(3), int64(4), object(6)\n",
      "memory usage: 116.5+ MB\n"
     ]
    }
   ],
   "source": [
    "df.info()"
   ]
  },
  {
   "cell_type": "markdown",
   "metadata": {},
   "source": [
    "Удалим все id билетов, так как они всегда разные и не могут влиять на предсказание"
   ]
  },
  {
   "cell_type": "code",
   "execution_count": 13,
   "metadata": {},
   "outputs": [],
   "source": [
    "df.drop('ticket_id', axis =1, inplace = True)"
   ]
  },
  {
   "cell_type": "markdown",
   "metadata": {},
   "source": [
    "Удалим entrance name, так как она дублирует id станции вхождения. ID входа и ID станции пока оставим и проверим в дальнейшем на корреляцию."
   ]
  },
  {
   "cell_type": "code",
   "execution_count": 14,
   "metadata": {},
   "outputs": [],
   "source": [
    "df.drop('entrance_nm', axis =1, inplace = True)"
   ]
  },
  {
   "cell_type": "code",
   "execution_count": 15,
   "metadata": {},
   "outputs": [],
   "source": [
    "df.drop('station_nm', axis =1, inplace = True)"
   ]
  },
  {
   "cell_type": "markdown",
   "metadata": {},
   "source": [
    "По той же причине удалим и название линии"
   ]
  },
  {
   "cell_type": "code",
   "execution_count": 16,
   "metadata": {},
   "outputs": [],
   "source": [
    "df.drop('line_nm', axis =1, inplace = True)"
   ]
  },
  {
   "cell_type": "code",
   "execution_count": 17,
   "metadata": {},
   "outputs": [
    {
     "data": {
      "text/html": [
       "<div>\n",
       "<style scoped>\n",
       "    .dataframe tbody tr th:only-of-type {\n",
       "        vertical-align: middle;\n",
       "    }\n",
       "\n",
       "    .dataframe tbody tr th {\n",
       "        vertical-align: top;\n",
       "    }\n",
       "\n",
       "    .dataframe thead th {\n",
       "        text-align: right;\n",
       "    }\n",
       "</style>\n",
       "<table border=\"1\" class=\"dataframe\">\n",
       "  <thead>\n",
       "    <tr style=\"text-align: right;\">\n",
       "      <th></th>\n",
       "      <th>ticket_type_nm</th>\n",
       "      <th>entrance_id</th>\n",
       "      <th>station_id</th>\n",
       "      <th>line_id</th>\n",
       "      <th>pass_dttm</th>\n",
       "      <th>time_to_under</th>\n",
       "      <th>label</th>\n",
       "      <th>IncomingPassengers</th>\n",
       "      <th>OutgoingPassengers</th>\n",
       "    </tr>\n",
       "  </thead>\n",
       "  <tbody>\n",
       "    <tr>\n",
       "      <th>0</th>\n",
       "      <td>Пропуск FacePay</td>\n",
       "      <td>2402</td>\n",
       "      <td>11007</td>\n",
       "      <td>11</td>\n",
       "      <td>2022-09-12 05:00:13</td>\n",
       "      <td>216.316667</td>\n",
       "      <td>8001</td>\n",
       "      <td>562076.0</td>\n",
       "      <td>562123.0</td>\n",
       "    </tr>\n",
       "    <tr>\n",
       "      <th>1</th>\n",
       "      <td>СК учащегося 30 дней</td>\n",
       "      <td>110</td>\n",
       "      <td>2006</td>\n",
       "      <td>2</td>\n",
       "      <td>2022-09-12 05:00:54</td>\n",
       "      <td>648.183333</td>\n",
       "      <td>9011</td>\n",
       "      <td>3933565.0</td>\n",
       "      <td>3974099.0</td>\n",
       "    </tr>\n",
       "    <tr>\n",
       "      <th>2</th>\n",
       "      <td>БСК дружинника г.Москвы</td>\n",
       "      <td>110</td>\n",
       "      <td>2006</td>\n",
       "      <td>2</td>\n",
       "      <td>2022-09-12 05:00:55</td>\n",
       "      <td>865.333333</td>\n",
       "      <td>7022</td>\n",
       "      <td>3933565.0</td>\n",
       "      <td>3974099.0</td>\n",
       "    </tr>\n",
       "    <tr>\n",
       "      <th>3</th>\n",
       "      <td>30 дней</td>\n",
       "      <td>110</td>\n",
       "      <td>2006</td>\n",
       "      <td>2</td>\n",
       "      <td>2022-09-12 05:01:13</td>\n",
       "      <td>1048.233333</td>\n",
       "      <td>2022</td>\n",
       "      <td>3933565.0</td>\n",
       "      <td>3974099.0</td>\n",
       "    </tr>\n",
       "    <tr>\n",
       "      <th>4</th>\n",
       "      <td>КОШЕЛЕК</td>\n",
       "      <td>110</td>\n",
       "      <td>2006</td>\n",
       "      <td>2</td>\n",
       "      <td>2022-09-12 05:02:55</td>\n",
       "      <td>965.600000</td>\n",
       "      <td>2017</td>\n",
       "      <td>3933565.0</td>\n",
       "      <td>3974099.0</td>\n",
       "    </tr>\n",
       "  </tbody>\n",
       "</table>\n",
       "</div>"
      ],
      "text/plain": [
       "            ticket_type_nm  entrance_id  station_id  line_id  \\\n",
       "0          Пропуск FacePay         2402       11007       11   \n",
       "1     СК учащегося 30 дней          110        2006        2   \n",
       "2  БСК дружинника г.Москвы          110        2006        2   \n",
       "3                  30 дней          110        2006        2   \n",
       "4                  КОШЕЛЕК          110        2006        2   \n",
       "\n",
       "             pass_dttm  time_to_under  label  IncomingPassengers  \\\n",
       "0  2022-09-12 05:00:13     216.316667   8001            562076.0   \n",
       "1  2022-09-12 05:00:54     648.183333   9011           3933565.0   \n",
       "2  2022-09-12 05:00:55     865.333333   7022           3933565.0   \n",
       "3  2022-09-12 05:01:13    1048.233333   2022           3933565.0   \n",
       "4  2022-09-12 05:02:55     965.600000   2017           3933565.0   \n",
       "\n",
       "   OutgoingPassengers  \n",
       "0            562123.0  \n",
       "1           3974099.0  \n",
       "2           3974099.0  \n",
       "3           3974099.0  \n",
       "4           3974099.0  "
      ]
     },
     "execution_count": 17,
     "metadata": {},
     "output_type": "execute_result"
    }
   ],
   "source": [
    "df.head()"
   ]
  },
  {
   "cell_type": "markdown",
   "metadata": {
    "id": "IY5yf35yNVuR"
   },
   "source": [
    "Посмотрим на распределение двух основных величин "
   ]
  },
  {
   "cell_type": "code",
   "execution_count": 18,
   "metadata": {
    "colab": {
     "base_uri": "https://localhost:8080/",
     "height": 283
    },
    "id": "ccsstA-IdxOJ",
    "outputId": "ebe811b8-ceda-4cb7-bc70-8cb00301abad"
   },
   "outputs": [
    {
     "data": {
      "text/plain": [
       "<AxesSubplot:>"
      ]
     },
     "execution_count": 18,
     "metadata": {},
     "output_type": "execute_result"
    },
    {
     "data": {
      "image/png": "[encoded data removed]",
      "text/plain": [
       "<Figure size 432x288 with 1 Axes>"
      ]
     },
     "metadata": {
      "needs_background": "light"
     },
     "output_type": "display_data"
    }
   ],
   "source": [
    "df[\"label\"].hist(bins = 100)"
   ]
  },
  {
   "cell_type": "code",
   "execution_count": 19,
   "metadata": {
    "colab": {
     "base_uri": "https://localhost:8080/",
     "height": 283
    },
    "id": "5YyJ2DkxNaZl",
    "outputId": "260535c7-e60d-441a-b29d-b6e71f2ea007"
   },
   "outputs": [
    {
     "data": {
      "text/plain": [
       "<AxesSubplot:>"
      ]
     },
     "execution_count": 19,
     "metadata": {},
     "output_type": "execute_result"
    },
    {
     "data": {
      "image/png": "[encoded data removed]",
      "text/plain": [
       "<Figure size 432x288 with 1 Axes>"
      ]
     },
     "metadata": {
      "needs_background": "light"
     },
     "output_type": "display_data"
    }
   ],
   "source": [
    "df[\"time_to_under\"].hist(bins = 100)"
   ]
  },
  {
   "cell_type": "markdown",
   "metadata": {
    "id": "s9fKKhV8edY_"
   },
   "source": [
    "Найдем наиболее популярную станцию"
   ]
  },
  {
   "cell_type": "code",
   "execution_count": 20,
   "metadata": {
    "colab": {
     "base_uri": "https://localhost:8080/"
    },
    "id": "Gq6HjkgCeQSy",
    "outputId": "74ee990e-7edc-4d66-ef1b-7474d7f3301b"
   },
   "outputs": [
    {
     "data": {
      "text/plain": [
       "3002     17272\n",
       "6008     15541\n",
       "1022     13758\n",
       "5010     13122\n",
       "7022     13080\n",
       "         ...  \n",
       "13002       24\n",
       "13003       23\n",
       "13006       17\n",
       "13005       14\n",
       "13004        7\n",
       "Name: label, Length: 276, dtype: int64"
      ]
     },
     "execution_count": 20,
     "metadata": {},
     "output_type": "execute_result"
    }
   ],
   "source": [
    "df[\"label\"].value_counts()"
   ]
  },
  {
   "cell_type": "code",
   "execution_count": 21,
   "metadata": {
    "colab": {
     "base_uri": "https://localhost:8080/",
     "height": 357
    },
    "id": "HVyOBpgiNqPA",
    "outputId": "2dcd29b4-919e-4c77-c4a0-823cf068243b"
   },
   "outputs": [
    {
     "data": {
      "text/html": [
       "<div>\n",
       "<style scoped>\n",
       "    .dataframe tbody tr th:only-of-type {\n",
       "        vertical-align: middle;\n",
       "    }\n",
       "\n",
       "    .dataframe tbody tr th {\n",
       "        vertical-align: top;\n",
       "    }\n",
       "\n",
       "    .dataframe thead th {\n",
       "        text-align: right;\n",
       "    }\n",
       "</style>\n",
       "<table border=\"1\" class=\"dataframe\">\n",
       "  <thead>\n",
       "    <tr style=\"text-align: right;\">\n",
       "      <th></th>\n",
       "      <th>ticket_type_nm</th>\n",
       "      <th>entrance_id</th>\n",
       "      <th>station_id</th>\n",
       "      <th>line_id</th>\n",
       "      <th>pass_dttm</th>\n",
       "      <th>time_to_under</th>\n",
       "      <th>label</th>\n",
       "      <th>IncomingPassengers</th>\n",
       "      <th>OutgoingPassengers</th>\n",
       "    </tr>\n",
       "  </thead>\n",
       "  <tbody>\n",
       "    <tr>\n",
       "      <th>60</th>\n",
       "      <td>Социальная карта жителя Моск. области</td>\n",
       "      <td>218</td>\n",
       "      <td>8003</td>\n",
       "      <td>8</td>\n",
       "      <td>2022-09-12 05:22:19</td>\n",
       "      <td>677.233333</td>\n",
       "      <td>3002</td>\n",
       "      <td>5897756.0</td>\n",
       "      <td>5693997.0</td>\n",
       "    </tr>\n",
       "    <tr>\n",
       "      <th>233</th>\n",
       "      <td>90 дней ЕДИНЫЙ ТК</td>\n",
       "      <td>221</td>\n",
       "      <td>8005</td>\n",
       "      <td>8</td>\n",
       "      <td>2022-09-12 05:28:54</td>\n",
       "      <td>706.883333</td>\n",
       "      <td>3002</td>\n",
       "      <td>3437105.0</td>\n",
       "      <td>3401428.0</td>\n",
       "    </tr>\n",
       "    <tr>\n",
       "      <th>307</th>\n",
       "      <td>30 дней ЕДИНЫЙ ТК</td>\n",
       "      <td>2227</td>\n",
       "      <td>10018</td>\n",
       "      <td>10</td>\n",
       "      <td>2022-09-12 05:29:53</td>\n",
       "      <td>792.900000</td>\n",
       "      <td>3002</td>\n",
       "      <td>3777876.0</td>\n",
       "      <td>3683052.0</td>\n",
       "    </tr>\n",
       "    <tr>\n",
       "      <th>420</th>\n",
       "      <td>30 дней ЕДИНЫЙ ТК</td>\n",
       "      <td>730</td>\n",
       "      <td>10007</td>\n",
       "      <td>10</td>\n",
       "      <td>2022-09-12 05:30:24</td>\n",
       "      <td>290.266667</td>\n",
       "      <td>3002</td>\n",
       "      <td>1495683.0</td>\n",
       "      <td>1595134.0</td>\n",
       "    </tr>\n",
       "    <tr>\n",
       "      <th>526</th>\n",
       "      <td>КОШЕЛЕК</td>\n",
       "      <td>343</td>\n",
       "      <td>7018</td>\n",
       "      <td>7</td>\n",
       "      <td>2022-09-12 05:30:53</td>\n",
       "      <td>829.166667</td>\n",
       "      <td>3002</td>\n",
       "      <td>4218973.0</td>\n",
       "      <td>4140763.0</td>\n",
       "    </tr>\n",
       "  </tbody>\n",
       "</table>\n",
       "</div>"
      ],
      "text/plain": [
       "                            ticket_type_nm  entrance_id  station_id  line_id  \\\n",
       "60   Социальная карта жителя Моск. области          218        8003        8   \n",
       "233                      90 дней ЕДИНЫЙ ТК          221        8005        8   \n",
       "307                      30 дней ЕДИНЫЙ ТК         2227       10018       10   \n",
       "420                      30 дней ЕДИНЫЙ ТК          730       10007       10   \n",
       "526                                КОШЕЛЕК          343        7018        7   \n",
       "\n",
       "               pass_dttm  time_to_under  label  IncomingPassengers  \\\n",
       "60   2022-09-12 05:22:19     677.233333   3002           5897756.0   \n",
       "233  2022-09-12 05:28:54     706.883333   3002           3437105.0   \n",
       "307  2022-09-12 05:29:53     792.900000   3002           3777876.0   \n",
       "420  2022-09-12 05:30:24     290.266667   3002           1495683.0   \n",
       "526  2022-09-12 05:30:53     829.166667   3002           4218973.0   \n",
       "\n",
       "     OutgoingPassengers  \n",
       "60            5693997.0  \n",
       "233           3401428.0  \n",
       "307           3683052.0  \n",
       "420           1595134.0  \n",
       "526           4140763.0  "
      ]
     },
     "execution_count": 21,
     "metadata": {},
     "output_type": "execute_result"
    }
   ],
   "source": [
    "df[df[\"label\"] == int(df[\"label\"].value_counts().index[0])].head()"
   ]
  },
  {
   "cell_type": "code",
   "execution_count": 22,
   "metadata": {},
   "outputs": [
    {
     "data": {
      "text/html": [
       "<div>\n",
       "<style scoped>\n",
       "    .dataframe tbody tr th:only-of-type {\n",
       "        vertical-align: middle;\n",
       "    }\n",
       "\n",
       "    .dataframe tbody tr th {\n",
       "        vertical-align: top;\n",
       "    }\n",
       "\n",
       "    .dataframe thead th {\n",
       "        text-align: right;\n",
       "    }\n",
       "</style>\n",
       "<table border=\"1\" class=\"dataframe\">\n",
       "  <thead>\n",
       "    <tr style=\"text-align: right;\">\n",
       "      <th></th>\n",
       "      <th>ticket_type_nm</th>\n",
       "      <th>entrance_id</th>\n",
       "      <th>station_id</th>\n",
       "      <th>line_id</th>\n",
       "      <th>pass_dttm</th>\n",
       "      <th>time_to_under</th>\n",
       "      <th>label</th>\n",
       "      <th>IncomingPassengers</th>\n",
       "      <th>OutgoingPassengers</th>\n",
       "    </tr>\n",
       "  </thead>\n",
       "  <tbody>\n",
       "    <tr>\n",
       "      <th>717</th>\n",
       "      <td>30 дней ЕДИНЫЙ ТК</td>\n",
       "      <td>139</td>\n",
       "      <td>3002</td>\n",
       "      <td>3</td>\n",
       "      <td>2022-09-12 05:32:40</td>\n",
       "      <td>847.133333</td>\n",
       "      <td>3001</td>\n",
       "      <td>4633111.0</td>\n",
       "      <td>4871060.0</td>\n",
       "    </tr>\n",
       "    <tr>\n",
       "      <th>818</th>\n",
       "      <td>30 дней</td>\n",
       "      <td>139</td>\n",
       "      <td>3002</td>\n",
       "      <td>3</td>\n",
       "      <td>2022-09-12 05:33:59</td>\n",
       "      <td>905.666667</td>\n",
       "      <td>9009</td>\n",
       "      <td>4633111.0</td>\n",
       "      <td>4871060.0</td>\n",
       "    </tr>\n",
       "    <tr>\n",
       "      <th>1090</th>\n",
       "      <td>30 дней</td>\n",
       "      <td>139</td>\n",
       "      <td>3002</td>\n",
       "      <td>3</td>\n",
       "      <td>2022-09-12 05:37:17</td>\n",
       "      <td>873.616667</td>\n",
       "      <td>9005</td>\n",
       "      <td>4633111.0</td>\n",
       "      <td>4871060.0</td>\n",
       "    </tr>\n",
       "    <tr>\n",
       "      <th>1728</th>\n",
       "      <td>90 дней ЕДИНЫЙ ТК</td>\n",
       "      <td>139</td>\n",
       "      <td>3002</td>\n",
       "      <td>3</td>\n",
       "      <td>2022-09-12 05:43:19</td>\n",
       "      <td>608.583333</td>\n",
       "      <td>9024</td>\n",
       "      <td>4633111.0</td>\n",
       "      <td>4871060.0</td>\n",
       "    </tr>\n",
       "    <tr>\n",
       "      <th>1740</th>\n",
       "      <td>30 дней</td>\n",
       "      <td>139</td>\n",
       "      <td>3002</td>\n",
       "      <td>3</td>\n",
       "      <td>2022-09-12 05:43:26</td>\n",
       "      <td>867.733333</td>\n",
       "      <td>5009</td>\n",
       "      <td>4633111.0</td>\n",
       "      <td>4871060.0</td>\n",
       "    </tr>\n",
       "  </tbody>\n",
       "</table>\n",
       "</div>"
      ],
      "text/plain": [
       "         ticket_type_nm  entrance_id  station_id  line_id  \\\n",
       "717   30 дней ЕДИНЫЙ ТК          139        3002        3   \n",
       "818             30 дней          139        3002        3   \n",
       "1090            30 дней          139        3002        3   \n",
       "1728  90 дней ЕДИНЫЙ ТК          139        3002        3   \n",
       "1740            30 дней          139        3002        3   \n",
       "\n",
       "                pass_dttm  time_to_under  label  IncomingPassengers  \\\n",
       "717   2022-09-12 05:32:40     847.133333   3001           4633111.0   \n",
       "818   2022-09-12 05:33:59     905.666667   9009           4633111.0   \n",
       "1090  2022-09-12 05:37:17     873.616667   9005           4633111.0   \n",
       "1728  2022-09-12 05:43:19     608.583333   9024           4633111.0   \n",
       "1740  2022-09-12 05:43:26     867.733333   5009           4633111.0   \n",
       "\n",
       "      OutgoingPassengers  \n",
       "717            4871060.0  \n",
       "818            4871060.0  \n",
       "1090           4871060.0  \n",
       "1728           4871060.0  \n",
       "1740           4871060.0  "
      ]
     },
     "execution_count": 22,
     "metadata": {},
     "output_type": "execute_result"
    }
   ],
   "source": [
    "df[df[\"station_id\"] == int(df[\"label\"].value_counts().index[0])].head()"
   ]
  },
  {
   "cell_type": "markdown",
   "metadata": {
    "id": "QTOLeRlMerAm"
   },
   "source": [
    "Сделаем категорию **\"ticket_type_nm\"** числовой"
   ]
  },
  {
   "cell_type": "code",
   "execution_count": 23,
   "metadata": {
    "colab": {
     "base_uri": "https://localhost:8080/"
    },
    "id": "Ydb_kzQlOfCP",
    "outputId": "5bd0c97e-b38e-40ba-dba7-c0a27a6468e1"
   },
   "outputs": [
    {
     "data": {
      "text/plain": [
       "КОШЕЛЕК                                                   262499\n",
       "30 дней ЕДИНЫЙ ТК                                         177041\n",
       "Социальная карта москвича                                 127022\n",
       "30 дней                                                   117064\n",
       "90 дней ЕДИНЫЙ ТК                                          58071\n",
       "30 дней СК студента                                        48658\n",
       "60 поездок ЕДИНЫЙ ТК                                       46542\n",
       "30 дней Пригород ТК                                        45381\n",
       "СК студента 30 дней                                        39395\n",
       "ББК                                                        29674\n",
       "30 дней СК учащегося                                       24307\n",
       "365 дней ЕДИНЫЙ ТК                                         20859\n",
       "СК учащегося 30 дней                                       16933\n",
       "Социальная карта жителя Моск. области                      15551\n",
       "90 дней                                                    12817\n",
       "Пропуск FacePay                                             9234\n",
       "СК студента 90 дней                                         6744\n",
       "СК учащегося 90 дней                                        3169\n",
       "30 дней  Пригород                                           3098\n",
       "БСК дружинника г.Москвы                                     2829\n",
       "СК для сотрудника ГУВД г.Москвы                             2634\n",
       "ВЕСБ МОСКВА (7мин)                                          2555\n",
       "90 дней СК студента                                         2535\n",
       "Социальная карта москвича с сопровождающим                  2272\n",
       "90 дней Пригород ТК                                         2258\n",
       "90 дней СК учащегося                                        1549\n",
       "30 дней СК ординатора                                       1264\n",
       "365 дней Пригород ТК                                        1173\n",
       "СК ординатора 30 дней                                       1166\n",
       "30 дней СК аспиранта                                        1045\n",
       "СК аспиранта 30 дней                                         869\n",
       "365 дней                                                     768\n",
       "Пропуск сотрудника УВД по охране Метрополитена               541\n",
       "СК аспиранта 90 дней                                         510\n",
       "3 суток Единый ТК                                            504\n",
       "СК ординатора 90 дней                                        361\n",
       "ВЕСБ МО (7 мин)                                              335\n",
       "Социальная карта жителя Моск. области с сопровождающим       244\n",
       "Ультралайт Единый (70)                                       233\n",
       "90 дней  Пригород                                            188\n",
       "Временный билет ММ                                           159\n",
       "90 дней СК ординатора                                        142\n",
       "1 сутки ЕДИНЫЙ ТК                                            123\n",
       "Пропуск сотрудника  метрополитена                            113\n",
       "Билет 3 суток ЕДИНЫЙ                                         113\n",
       "90 дней СК аспиранта                                          92\n",
       "ВЕСБ МО (тип 5)                                               61\n",
       "Безналичная транспортная карта                                60\n",
       "ВЕСБ МОСКВА                                                   56\n",
       "30 дней СК ассистента-стажера                                 49\n",
       "Пропуск  сотрудника МЦК                                       44\n",
       "СК ассистента-стажера 30 дней                                 34\n",
       "365 дней  Пригород                                            30\n",
       "Пропуск руководителя метрополитена                            24\n",
       "СК ассистента-стажера 90 дней                                 10\n",
       "1 сутки Пригород ТК                                            7\n",
       "ВЛБ МОСКВА                                                     6\n",
       "ВЕСБ МО с сопровождающим                                       2\n",
       "ВЕСБ МО (тип 6)                                                2\n",
       "Билет 1 сутки ЕДИНЫЙ                                           2\n",
       "Name: ticket_type_nm, dtype: int64"
      ]
     },
     "execution_count": 23,
     "metadata": {},
     "output_type": "execute_result"
    }
   ],
   "source": [
    "df[\"ticket_type_nm\"].value_counts()"
   ]
  },
  {
   "cell_type": "code",
   "execution_count": 24,
   "metadata": {
    "id": "wuSmnOhneooh"
   },
   "outputs": [],
   "source": [
    "### Произведем mean-target-encoding колонки Тип Билета\n",
    "keys = dict(df.groupby(['ticket_type_nm'])['time_to_under'].mean())\n",
    "df['ticket_type_nm'] = df['ticket_type_nm'].map(keys)"
   ]
  },
  {
   "cell_type": "code",
   "execution_count": 25,
   "metadata": {},
   "outputs": [],
   "source": [
    "df['pass_dttm'] = pd.to_datetime(df['pass_dttm'], format=\"%Y-%m-%d %H:%M:%S\")"
   ]
  },
  {
   "cell_type": "code",
   "execution_count": 26,
   "metadata": {},
   "outputs": [],
   "source": [
    "df['dayofweek']=df['pass_dttm'].dt.dayofweek"
   ]
  },
  {
   "cell_type": "code",
   "execution_count": 27,
   "metadata": {},
   "outputs": [],
   "source": [
    "df['day']=df['pass_dttm'].dt.day"
   ]
  },
  {
   "cell_type": "code",
   "execution_count": 28,
   "metadata": {},
   "outputs": [],
   "source": [
    "df['hour']=df['pass_dttm'].dt.hour"
   ]
  },
  {
   "cell_type": "code",
   "execution_count": 29,
   "metadata": {
    "colab": {
     "base_uri": "https://localhost:8080/",
     "height": 260
    },
    "id": "RJsQl2nZgjnR",
    "outputId": "2b7e695d-69c8-408b-970d-f9dd68980708"
   },
   "outputs": [],
   "source": [
    "df.drop('pass_dttm', axis =1, inplace = True)"
   ]
  },
  {
   "cell_type": "code",
   "execution_count": 30,
   "metadata": {
    "colab": {
     "base_uri": "https://localhost:8080/",
     "height": 850
    },
    "id": "LQNuW50pgJYa",
    "outputId": "65403205-e8be-4e9a-d6d2-279c3c8c04f0"
   },
   "outputs": [
    {
     "data": {
      "image/png": "[encoded data removed]",
      "text/plain": [
       "<Figure size 2880x2880 with 2 Axes>"
      ]
     },
     "metadata": {
      "needs_background": "light"
     },
     "output_type": "display_data"
    }
   ],
   "source": [
    "plt.rcParams['figure.figsize']=(40,40)\n",
    "\n",
    "corr = df.corr()\n",
    "g = sns.heatmap(corr, square = True, annot=True, cmap='RdYlGn')"
   ]
  },
  {
   "cell_type": "markdown",
   "metadata": {},
   "source": [
    "Удалить линию или станцию?"
   ]
  },
  {
   "cell_type": "code",
   "execution_count": 31,
   "metadata": {},
   "outputs": [],
   "source": [
    "df.drop('line_id', axis =1, inplace = True)"
   ]
  },
  {
   "cell_type": "markdown",
   "metadata": {
    "id": "WIFh_dnOhj1V"
   },
   "source": [
    "## Выделим выборки"
   ]
  },
  {
   "cell_type": "code",
   "execution_count": 32,
   "metadata": {
    "id": "mkCL9b-8hmZ1"
   },
   "outputs": [],
   "source": [
    "X = df.drop([\"time_to_under\", \"label\"], axis = 1)\n",
    "y = df[[\"time_to_under\", \"label\"]]"
   ]
  },
  {
   "cell_type": "code",
   "execution_count": 33,
   "metadata": {
    "id": "NfIOX9Lbik_i"
   },
   "outputs": [],
   "source": [
    "X_train, X_test, y_train, y_test = train_test_split(X, y, test_size=0.3, random_state=42)"
   ]
  },
  {
   "cell_type": "code",
   "execution_count": 34,
   "metadata": {},
   "outputs": [
    {
     "data": {
      "text/plain": [
       "3002     12066\n",
       "6008     10898\n",
       "1022      9607\n",
       "7022      9166\n",
       "5010      9034\n",
       "         ...  \n",
       "13002       17\n",
       "13003       16\n",
       "13006       14\n",
       "13005       11\n",
       "13004        6\n",
       "Name: label, Length: 276, dtype: int64"
      ]
     },
     "execution_count": 34,
     "metadata": {},
     "output_type": "execute_result"
    }
   ],
   "source": [
    "y_train['label'].value_counts()"
   ]
  },
  {
   "cell_type": "markdown",
   "metadata": {
    "id": "60NotS9ehbO5"
   },
   "source": [
    "## Обучение модели"
   ]
  },
  {
   "cell_type": "markdown",
   "metadata": {
    "id": "uZW02LaeSVpa"
   },
   "source": [
    "Для станции "
   ]
  },
  {
   "cell_type": "code",
   "execution_count": 35,
   "metadata": {
    "id": "jc-KKFlWf6_N"
   },
   "outputs": [
    {
     "data": {
      "text/html": [
       "<style>#sk-container-id-1 {color: black;background-color: white;}#sk-container-id-1 pre{padding: 0;}#sk-container-id-1 div.sk-toggleable {background-color: white;}#sk-container-id-1 label.sk-toggleable__label {cursor: pointer;display: block;width: 100%;margin-bottom: 0;padding: 0.3em;box-sizing: border-box;text-align: center;}#sk-container-id-1 label.sk-toggleable__label-arrow:before {content: \"▸\";float: left;margin-right: 0.25em;color: #696969;}#sk-container-id-1 label.sk-toggleable__label-arrow:hover:before {color: black;}#sk-container-id-1 div.sk-estimator:hover label.sk-toggleable__label-arrow:before {color: black;}#sk-container-id-1 div.sk-toggleable__content {max-height: 0;max-width: 0;overflow: hidden;text-align: left;background-color: #f0f8ff;}#sk-container-id-1 div.sk-toggleable__content pre {margin: 0.2em;color: black;border-radius: 0.25em;background-color: #f0f8ff;}#sk-container-id-1 input.sk-toggleable__control:checked~div.sk-toggleable__content {max-height: 200px;max-width: 100%;overflow: auto;}#sk-container-id-1 input.sk-toggleable__control:checked~label.sk-toggleable__label-arrow:before {content: \"▾\";}#sk-container-id-1 div.sk-estimator input.sk-toggleable__control:checked~label.sk-toggleable__label {background-color: #d4ebff;}#sk-container-id-1 div.sk-label input.sk-toggleable__control:checked~label.sk-toggleable__label {background-color: #d4ebff;}#sk-container-id-1 input.sk-hidden--visually {border: 0;clip: rect(1px 1px 1px 1px);clip: rect(1px, 1px, 1px, 1px);height: 1px;margin: -1px;overflow: hidden;padding: 0;position: absolute;width: 1px;}#sk-container-id-1 div.sk-estimator {font-family: monospace;background-color: #f0f8ff;border: 1px dotted black;border-radius: 0.25em;box-sizing: border-box;margin-bottom: 0.5em;}#sk-container-id-1 div.sk-estimator:hover {background-color: #d4ebff;}#sk-container-id-1 div.sk-parallel-item::after {content: \"\";width: 100%;border-bottom: 1px solid gray;flex-grow: 1;}#sk-container-id-1 div.sk-label:hover label.sk-toggleable__label {background-color: #d4ebff;}#sk-container-id-1 div.sk-serial::before {content: \"\";position: absolute;border-left: 1px solid gray;box-sizing: border-box;top: 0;bottom: 0;left: 50%;z-index: 0;}#sk-container-id-1 div.sk-serial {display: flex;flex-direction: column;align-items: center;background-color: white;padding-right: 0.2em;padding-left: 0.2em;position: relative;}#sk-container-id-1 div.sk-item {position: relative;z-index: 1;}#sk-container-id-1 div.sk-parallel {display: flex;align-items: stretch;justify-content: center;background-color: white;position: relative;}#sk-container-id-1 div.sk-item::before, #sk-container-id-1 div.sk-parallel-item::before {content: \"\";position: absolute;border-left: 1px solid gray;box-sizing: border-box;top: 0;bottom: 0;left: 50%;z-index: -1;}#sk-container-id-1 div.sk-parallel-item {display: flex;flex-direction: column;z-index: 1;position: relative;background-color: white;}#sk-container-id-1 div.sk-parallel-item:first-child::after {align-self: flex-end;width: 50%;}#sk-container-id-1 div.sk-parallel-item:last-child::after {align-self: flex-start;width: 50%;}#sk-container-id-1 div.sk-parallel-item:only-child::after {width: 0;}#sk-container-id-1 div.sk-dashed-wrapped {border: 1px dashed gray;margin: 0 0.4em 0.5em 0.4em;box-sizing: border-box;padding-bottom: 0.4em;background-color: white;}#sk-container-id-1 div.sk-label label {font-family: monospace;font-weight: bold;display: inline-block;line-height: 1.2em;}#sk-container-id-1 div.sk-label-container {text-align: center;}#sk-container-id-1 div.sk-container {/* jupyter's `normalize.less` sets `[hidden] { display: none; }` but bootstrap.min.css set `[hidden] { display: none !important; }` so we also need the `!important` here to be able to override the default hidden behavior on the sphinx rendered scikit-learn.org. See: https://github.com/scikit-learn/scikit-learn/issues/21755 */display: inline-block !important;position: relative;}#sk-container-id-1 div.sk-text-repr-fallback {display: none;}</style><div id=\"sk-container-id-1\" class=\"sk-top-container\"><div class=\"sk-text-repr-fallback\"><pre>RandomForestClassifier(random_state=42)</pre><b>In a Jupyter environment, please rerun this cell to show the HTML representation or trust the notebook. <br />On GitHub, the HTML representation is unable to render, please try loading this page with nbviewer.org.</b></div><div class=\"sk-container\" hidden><div class=\"sk-item\"><div class=\"sk-estimator sk-toggleable\"><input class=\"sk-toggleable__control sk-hidden--visually\" id=\"sk-estimator-id-1\" type=\"checkbox\" checked><label for=\"sk-estimator-id-1\" class=\"sk-toggleable__label sk-toggleable__label-arrow\">RandomForestClassifier</label><div class=\"sk-toggleable__content\"><pre>RandomForestClassifier(random_state=42)</pre></div></div></div></div></div>"
      ],
      "text/plain": [
       "RandomForestClassifier(random_state=42)"
      ]
     },
     "execution_count": 35,
     "metadata": {},
     "output_type": "execute_result"
    }
   ],
   "source": [
    "from sklearn.model_selection import RandomizedSearchCV\n",
    "\n",
    "clf = RandomForestClassifier(random_state=42)\n",
    "\n",
    "clf.fit(X_train, y_train['label'])"
   ]
  },
  {
   "cell_type": "markdown",
   "metadata": {
    "id": "bWkUCLOfSYGU"
   },
   "source": [
    "Для времени"
   ]
  },
  {
   "cell_type": "code",
   "execution_count": 38,
   "metadata": {},
   "outputs": [
    {
     "name": "stdout",
     "output_type": "stream",
     "text": [
      "0:\tlearn: 221.0536346\ttotal: 1.01s\tremaining: 1m 40s\n",
      "1:\tlearn: 210.9627273\ttotal: 1.82s\tremaining: 1m 29s\n",
      "2:\tlearn: 202.4634324\ttotal: 1.97s\tremaining: 1m 3s\n",
      "3:\tlearn: 195.2834487\ttotal: 2.56s\tremaining: 1m 1s\n",
      "4:\tlearn: 189.1995778\ttotal: 3.1s\tremaining: 58.9s\n",
      "5:\tlearn: 184.1269087\ttotal: 3.62s\tremaining: 56.8s\n",
      "6:\tlearn: 179.8416478\ttotal: 4.17s\tremaining: 55.4s\n",
      "7:\tlearn: 176.2493854\ttotal: 4.69s\tremaining: 54s\n",
      "8:\tlearn: 173.3246502\ttotal: 5.22s\tremaining: 52.8s\n",
      "9:\tlearn: 170.9032920\ttotal: 5.5s\tremaining: 49.5s\n",
      "10:\tlearn: 168.8699080\ttotal: 6.03s\tremaining: 48.8s\n",
      "11:\tlearn: 167.1985174\ttotal: 6.6s\tremaining: 48.4s\n",
      "12:\tlearn: 165.8138316\ttotal: 7.14s\tremaining: 47.8s\n",
      "13:\tlearn: 164.6563472\ttotal: 7.67s\tremaining: 47.1s\n",
      "14:\tlearn: 163.7011676\ttotal: 8.2s\tremaining: 46.5s\n",
      "15:\tlearn: 162.9141446\ttotal: 8.73s\tremaining: 45.8s\n",
      "16:\tlearn: 162.2308982\ttotal: 9.38s\tremaining: 45.8s\n",
      "17:\tlearn: 161.6675499\ttotal: 9.9s\tremaining: 45.1s\n",
      "18:\tlearn: 161.2170546\ttotal: 10s\tremaining: 42.8s\n",
      "19:\tlearn: 160.8318910\ttotal: 10.6s\tremaining: 42.3s\n",
      "20:\tlearn: 160.5186341\ttotal: 11.1s\tremaining: 41.8s\n",
      "21:\tlearn: 160.2413994\ttotal: 11.6s\tremaining: 41.2s\n",
      "22:\tlearn: 159.9962454\ttotal: 12.2s\tremaining: 41s\n",
      "23:\tlearn: 159.8086506\ttotal: 12.8s\tremaining: 40.4s\n",
      "24:\tlearn: 159.6161862\ttotal: 13.3s\tremaining: 39.9s\n",
      "25:\tlearn: 159.4709212\ttotal: 13.8s\tremaining: 39.4s\n",
      "26:\tlearn: 159.3807733\ttotal: 13.9s\tremaining: 37.5s\n",
      "27:\tlearn: 159.2655801\ttotal: 14.4s\tremaining: 37s\n",
      "28:\tlearn: 159.1666557\ttotal: 14.9s\tremaining: 36.6s\n",
      "29:\tlearn: 159.0588513\ttotal: 15.5s\tremaining: 36.2s\n",
      "30:\tlearn: 158.9737351\ttotal: 16s\tremaining: 35.7s\n",
      "31:\tlearn: 158.8870508\ttotal: 16.6s\tremaining: 35.2s\n",
      "32:\tlearn: 158.8255987\ttotal: 17.2s\tremaining: 34.8s\n",
      "33:\tlearn: 158.7585232\ttotal: 17.7s\tremaining: 34.3s\n",
      "34:\tlearn: 158.7027662\ttotal: 18.2s\tremaining: 33.8s\n",
      "35:\tlearn: 158.6400431\ttotal: 18.8s\tremaining: 33.4s\n",
      "36:\tlearn: 158.5722439\ttotal: 19.3s\tremaining: 32.9s\n",
      "37:\tlearn: 158.5149672\ttotal: 19.9s\tremaining: 32.5s\n",
      "38:\tlearn: 158.4662274\ttotal: 20.4s\tremaining: 31.9s\n",
      "39:\tlearn: 158.4244741\ttotal: 21s\tremaining: 31.4s\n",
      "40:\tlearn: 158.3865079\ttotal: 21.5s\tremaining: 30.9s\n",
      "41:\tlearn: 158.3513144\ttotal: 22s\tremaining: 30.4s\n",
      "42:\tlearn: 158.3188706\ttotal: 22.5s\tremaining: 29.9s\n",
      "43:\tlearn: 158.2827787\ttotal: 23.1s\tremaining: 29.4s\n",
      "44:\tlearn: 158.2558513\ttotal: 23.6s\tremaining: 28.9s\n",
      "45:\tlearn: 158.2209797\ttotal: 24.2s\tremaining: 28.4s\n",
      "46:\tlearn: 158.1820141\ttotal: 24.7s\tremaining: 27.8s\n",
      "47:\tlearn: 158.1543623\ttotal: 25.3s\tremaining: 27.4s\n",
      "48:\tlearn: 158.1134718\ttotal: 25.9s\tremaining: 27s\n",
      "49:\tlearn: 158.0768895\ttotal: 26.5s\tremaining: 26.5s\n",
      "50:\tlearn: 158.0558548\ttotal: 27s\tremaining: 25.9s\n",
      "51:\tlearn: 158.0241111\ttotal: 27.5s\tremaining: 25.4s\n",
      "52:\tlearn: 158.0004224\ttotal: 28.1s\tremaining: 24.9s\n",
      "53:\tlearn: 157.9811322\ttotal: 28.6s\tremaining: 24.4s\n",
      "54:\tlearn: 157.9607605\ttotal: 29.2s\tremaining: 23.9s\n",
      "55:\tlearn: 157.9220142\ttotal: 29.7s\tremaining: 23.4s\n",
      "56:\tlearn: 157.9012268\ttotal: 30.3s\tremaining: 22.8s\n",
      "57:\tlearn: 157.8735058\ttotal: 30.8s\tremaining: 22.3s\n",
      "58:\tlearn: 157.8422998\ttotal: 31.4s\tremaining: 21.8s\n",
      "59:\tlearn: 157.8162435\ttotal: 31.9s\tremaining: 21.3s\n",
      "60:\tlearn: 157.7793006\ttotal: 32.4s\tremaining: 20.7s\n",
      "61:\tlearn: 157.7698983\ttotal: 32.5s\tremaining: 19.9s\n",
      "62:\tlearn: 157.7321234\ttotal: 33s\tremaining: 19.4s\n",
      "63:\tlearn: 157.7104631\ttotal: 33.6s\tremaining: 18.9s\n",
      "64:\tlearn: 157.6930330\ttotal: 33.9s\tremaining: 18.2s\n",
      "65:\tlearn: 157.6680233\ttotal: 34.4s\tremaining: 17.7s\n",
      "66:\tlearn: 157.6313237\ttotal: 34.9s\tremaining: 17.2s\n",
      "67:\tlearn: 157.6095911\ttotal: 35.5s\tremaining: 16.7s\n",
      "68:\tlearn: 157.5932657\ttotal: 36s\tremaining: 16.2s\n",
      "69:\tlearn: 157.5684724\ttotal: 36.6s\tremaining: 15.7s\n",
      "70:\tlearn: 157.5476893\ttotal: 37.1s\tremaining: 15.1s\n",
      "71:\tlearn: 157.5474434\ttotal: 37.1s\tremaining: 14.4s\n",
      "72:\tlearn: 157.5310773\ttotal: 37.7s\tremaining: 13.9s\n",
      "73:\tlearn: 157.5142377\ttotal: 38.2s\tremaining: 13.4s\n",
      "74:\tlearn: 157.5140546\ttotal: 38.2s\tremaining: 12.7s\n",
      "75:\tlearn: 157.4909296\ttotal: 38.8s\tremaining: 12.2s\n",
      "76:\tlearn: 157.4673259\ttotal: 39.3s\tremaining: 11.7s\n",
      "77:\tlearn: 157.4398297\ttotal: 39.9s\tremaining: 11.2s\n",
      "78:\tlearn: 157.4212923\ttotal: 40.4s\tremaining: 10.7s\n",
      "79:\tlearn: 157.3939175\ttotal: 41s\tremaining: 10.2s\n",
      "80:\tlearn: 157.3753130\ttotal: 41.5s\tremaining: 9.73s\n",
      "81:\tlearn: 157.3537736\ttotal: 42s\tremaining: 9.23s\n",
      "82:\tlearn: 157.3280407\ttotal: 42.6s\tremaining: 8.72s\n",
      "83:\tlearn: 157.3109324\ttotal: 43.1s\tremaining: 8.21s\n",
      "84:\tlearn: 157.2761200\ttotal: 43.7s\tremaining: 7.71s\n",
      "85:\tlearn: 157.2641738\ttotal: 44.2s\tremaining: 7.2s\n",
      "86:\tlearn: 157.2409541\ttotal: 44.8s\tremaining: 6.69s\n",
      "87:\tlearn: 157.2252232\ttotal: 45.3s\tremaining: 6.18s\n",
      "88:\tlearn: 157.1990556\ttotal: 45.9s\tremaining: 5.67s\n",
      "89:\tlearn: 157.1680522\ttotal: 46.4s\tremaining: 5.16s\n",
      "90:\tlearn: 157.1525209\ttotal: 47s\tremaining: 4.64s\n",
      "91:\tlearn: 157.1298507\ttotal: 47.5s\tremaining: 4.13s\n",
      "92:\tlearn: 157.1105220\ttotal: 48.1s\tremaining: 3.62s\n",
      "93:\tlearn: 157.0959959\ttotal: 48.6s\tremaining: 3.1s\n",
      "94:\tlearn: 157.0773874\ttotal: 49.2s\tremaining: 2.59s\n",
      "95:\tlearn: 157.0558649\ttotal: 49.7s\tremaining: 2.07s\n",
      "96:\tlearn: 157.0429980\ttotal: 50.2s\tremaining: 1.55s\n",
      "97:\tlearn: 157.0162203\ttotal: 50.8s\tremaining: 1.04s\n",
      "98:\tlearn: 157.0006593\ttotal: 51.3s\tremaining: 518ms\n",
      "99:\tlearn: 156.9661755\ttotal: 51.9s\tremaining: 0us\n"
     ]
    },
    {
     "data": {
      "text/plain": [
       "<catboost.core.CatBoostRegressor at 0x7f7e53471910>"
      ]
     },
     "execution_count": 38,
     "metadata": {},
     "output_type": "execute_result"
    }
   ],
   "source": [
    "from catboost import CatBoostRegressor\n",
    "from sklearn.model_selection import GridSearchCV\n",
    "model_reg = CatBoostRegressor(depth=16, learning_rate= 0.1, iterations =100, random_state=42)\n",
    "model_reg.fit(X_train, y_train[\"time_to_under\"])"
   ]
  },
  {
   "cell_type": "markdown",
   "metadata": {
    "id": "6Y60HHS5jKeN"
   },
   "source": [
    "## Оценка точности"
   ]
  },
  {
   "cell_type": "code",
   "execution_count": 40,
   "metadata": {},
   "outputs": [],
   "source": [
    "pred_class = clf.predict(X_test)\n",
    "pred_reg = model_reg.predict(X_test)"
   ]
  },
  {
   "cell_type": "code",
   "execution_count": 42,
   "metadata": {
    "colab": {
     "base_uri": "https://localhost:8080/"
    },
    "id": "AgEZTGYujQMW",
    "outputId": "e326b73a-a2db-4722-e07c-97089b971978"
   },
   "outputs": [
    {
     "data": {
      "text/plain": [
       "0.2925071316603968"
      ]
     },
     "execution_count": 42,
     "metadata": {},
     "output_type": "execute_result"
    }
   ],
   "source": [
    "from sklearn.metrics import recall_score, r2_score\n",
    "\n",
    "\n",
    "score = 0.5 * recall_score(y_test[\"label\"], pred_class , average='macro') +  0.5 * r2_score(y_test[\"time_to_under\"], pred_reg)\n",
    "score"
   ]
  },
  {
   "cell_type": "markdown",
   "metadata": {},
   "source": [
    "## Обработка тестового датасета"
   ]
  },
  {
   "cell_type": "code",
   "execution_count": 43,
   "metadata": {},
   "outputs": [],
   "source": [
    "ps = pd.read_csv(\"сount_data.csv\", index_col = 0)"
   ]
  },
  {
   "cell_type": "code",
   "execution_count": 44,
   "metadata": {},
   "outputs": [],
   "source": [
    "tst = pd.read_csv(\"test_dataset_test.csv\", index_col = 'id')"
   ]
  },
  {
   "cell_type": "code",
   "execution_count": 45,
   "metadata": {},
   "outputs": [
    {
     "data": {
      "text/plain": [
       "Int64Index([1091022, 1091023, 1091024, 1091025, 1091026, 1091027, 1091028,\n",
       "            1091029, 1091030, 1091031,\n",
       "            ...\n",
       "            1652902, 1652903, 1652904, 1652905, 1652906, 1652907, 1652908,\n",
       "            1652909, 1652910, 1652911],\n",
       "           dtype='int64', name='id', length=561890)"
      ]
     },
     "execution_count": 45,
     "metadata": {},
     "output_type": "execute_result"
    }
   ],
   "source": [
    "ids = tst.index\n",
    "ids"
   ]
  },
  {
   "cell_type": "code",
   "execution_count": 46,
   "metadata": {},
   "outputs": [],
   "source": [
    "tst = tst.merge(ps, on=['station_nm','line_nm'], how='left')"
   ]
  },
  {
   "cell_type": "code",
   "execution_count": 47,
   "metadata": {},
   "outputs": [],
   "source": [
    "ps.drop_duplicates(subset='station_nm', keep='first', inplace=True)"
   ]
  },
  {
   "cell_type": "code",
   "execution_count": 48,
   "metadata": {},
   "outputs": [],
   "source": [
    "tst = tst.merge(ps, on=['station_nm'], how='left')"
   ]
  },
  {
   "cell_type": "code",
   "execution_count": 49,
   "metadata": {},
   "outputs": [],
   "source": [
    "tst.drop('line_nm_y', axis =1, inplace = True)"
   ]
  },
  {
   "cell_type": "code",
   "execution_count": 50,
   "metadata": {},
   "outputs": [],
   "source": [
    "tst['IncomingPassengers_x']=tst['IncomingPassengers_x'].fillna(tst['IncomingPassengers_y'])\n",
    "tst['OutgoingPassengers_x']=tst['OutgoingPassengers_x'].fillna(tst['OutgoingPassengers_y'])"
   ]
  },
  {
   "cell_type": "code",
   "execution_count": 51,
   "metadata": {},
   "outputs": [],
   "source": [
    "tst.drop(['IncomingPassengers_y', 'OutgoingPassengers_y'], axis =1, inplace = True)\n",
    "tst = tst.rename(columns= {'IncomingPassengers_x': 'IncomingPassengers', \n",
    "                         'OutgoingPassengers_x': 'OutgoingPassengers',\n",
    "                         'line_nm_x': 'line_nm'\n",
    "                        })"
   ]
  },
  {
   "cell_type": "code",
   "execution_count": 52,
   "metadata": {},
   "outputs": [],
   "source": [
    "tst.drop('ticket_id', axis =1, inplace = True)"
   ]
  },
  {
   "cell_type": "code",
   "execution_count": 53,
   "metadata": {},
   "outputs": [],
   "source": [
    "tst.drop('entrance_nm', axis =1, inplace = True)"
   ]
  },
  {
   "cell_type": "code",
   "execution_count": 54,
   "metadata": {},
   "outputs": [],
   "source": [
    "tst.drop('station_nm', axis =1, inplace = True)"
   ]
  },
  {
   "cell_type": "code",
   "execution_count": 55,
   "metadata": {},
   "outputs": [],
   "source": [
    "tst.drop('line_nm', axis =1, inplace = True)"
   ]
  },
  {
   "cell_type": "code",
   "execution_count": 56,
   "metadata": {
    "id": "wuSmnOhneooh"
   },
   "outputs": [],
   "source": [
    "### Произведем mean-target-encoding колонки Тип Билета\n",
    "tst['ticket_type_nm'].replace(keys, inplace=True)\n",
    "mean = tst[tst['ticket_type_nm']!='СК студента на 3 месяца']['ticket_type_nm'].mean()\n",
    "tst['ticket_type_nm'].replace('СК студента на 3 месяца', mean, inplace = True)"
   ]
  },
  {
   "cell_type": "code",
   "execution_count": 57,
   "metadata": {},
   "outputs": [],
   "source": [
    "tst['pass_dttm'] = pd.to_datetime(tst['pass_dttm'], format=\"%Y-%m-%d %H:%M:%S\")"
   ]
  },
  {
   "cell_type": "code",
   "execution_count": 58,
   "metadata": {},
   "outputs": [],
   "source": [
    "tst['dayofweek']=tst['pass_dttm'].dt.dayofweek"
   ]
  },
  {
   "cell_type": "code",
   "execution_count": 59,
   "metadata": {},
   "outputs": [],
   "source": [
    "tst['day']=tst['pass_dttm'].dt.day"
   ]
  },
  {
   "cell_type": "code",
   "execution_count": 60,
   "metadata": {},
   "outputs": [],
   "source": [
    "tst['hour']=tst['pass_dttm'].dt.hour"
   ]
  },
  {
   "cell_type": "code",
   "execution_count": 61,
   "metadata": {
    "colab": {
     "base_uri": "https://localhost:8080/",
     "height": 260
    },
    "id": "RJsQl2nZgjnR",
    "outputId": "2b7e695d-69c8-408b-970d-f9dd68980708"
   },
   "outputs": [],
   "source": [
    "tst.drop('pass_dttm', axis =1, inplace = True)"
   ]
  },
  {
   "cell_type": "code",
   "execution_count": 62,
   "metadata": {},
   "outputs": [],
   "source": [
    "tst.drop('line_id', axis =1, inplace = True)"
   ]
  },
  {
   "cell_type": "code",
   "execution_count": 63,
   "metadata": {},
   "outputs": [
    {
     "data": {
      "text/plain": [
       "(561890, 8)"
      ]
     },
     "execution_count": 63,
     "metadata": {},
     "output_type": "execute_result"
    }
   ],
   "source": [
    "tst.shape"
   ]
  },
  {
   "cell_type": "markdown",
   "metadata": {},
   "source": [
    "### Предсказание финальное"
   ]
  },
  {
   "cell_type": "code",
   "execution_count": 64,
   "metadata": {},
   "outputs": [],
   "source": [
    "pred_fin_class = clf.predict(tst)"
   ]
  },
  {
   "cell_type": "code",
   "execution_count": 65,
   "metadata": {},
   "outputs": [],
   "source": [
    "pred_fin_reg = model_reg.predict(tst)"
   ]
  },
  {
   "cell_type": "code",
   "execution_count": 67,
   "metadata": {},
   "outputs": [],
   "source": [
    "tst['time_to_under']=pred_fin_reg\n",
    "tst['label']=pred_fin_class\n",
    "tst.drop(['ticket_type_nm','entrance_id','station_id','dayofweek',\n",
    "          'day','hour', 'IncomingPassengers', 'OutgoingPassengers'], axis=1, inplace=True)"
   ]
  },
  {
   "cell_type": "code",
   "execution_count": 68,
   "metadata": {},
   "outputs": [],
   "source": [
    "tst['id']= ids"
   ]
  },
  {
   "cell_type": "code",
   "execution_count": 71,
   "metadata": {},
   "outputs": [],
   "source": [
    "tst = tst.set_index('id')"
   ]
  },
  {
   "cell_type": "code",
   "execution_count": 72,
   "metadata": {},
   "outputs": [],
   "source": [
    "tst.to_csv('solution3.csv')"
   ]
  },
  {
   "cell_type": "code",
   "execution_count": null,
   "metadata": {},
   "outputs": [],
   "source": []
  }
 ],
 "metadata": {
  "colab": {
   "provenance": []
  },
  "kernelspec": {
   "display_name": "Python 3",
   "language": "python",
   "name": "python3"
  },
  "language_info": {
   "codemirror_mode": {
    "name": "ipython",
    "version": 3
   },
   "file_extension": ".py",
   "mimetype": "text/x-python",
   "name": "python",
   "nbconvert_exporter": "python",
   "pygments_lexer": "ipython3",
   "version": "3.8.2"
  }
 },
 "nbformat": 4,
 "nbformat_minor": 1
}
