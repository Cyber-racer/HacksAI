{
 "cells": [
  {
   "cell_type": "markdown",
   "metadata": {
    "id": "fnE1_J-4dhSR"
   },
   "source": [
    "## Загрузим нужные библиотеки"
   ]
  },
  {
   "cell_type": "code",
   "execution_count": 3,
   "metadata": {
    "id": "uaKzqUxsdjDa"
   },
   "outputs": [],
   "source": [
    "import pandas as pd\n",
    "import seaborn as sns\n",
    "import matplotlib.pyplot as plt\n",
    "from sklearn.model_selection import train_test_split\n",
    "from sklearn.ensemble import RandomForestClassifier, RandomForestRegressor\n",
    "\n",
    "%matplotlib inline"
   ]
  },
  {
   "cell_type": "code",
   "execution_count": 4,
   "metadata": {
    "id": "2scLoULoXkT0"
   },
   "outputs": [],
   "source": [
    "df = pd.read_csv(\"train.csv\", nrows = 100000)"
   ]
  },
  {
   "cell_type": "markdown",
   "metadata": {
    "id": "WcxAsO_Md05t"
   },
   "source": [
    "## Рассмотрим датасет по ближе"
   ]
  },
  {
   "cell_type": "code",
   "execution_count": 5,
   "metadata": {
    "colab": {
     "base_uri": "https://localhost:8080/",
     "height": 260
    },
    "id": "I16XfuOpXwIy",
    "outputId": "f39e62c8-ddc7-4337-9c83-023543ef5da8"
   },
   "outputs": [
    {
     "data": {
      "text/html": [
       "<div>\n",
       "<style scoped>\n",
       "    .dataframe tbody tr th:only-of-type {\n",
       "        vertical-align: middle;\n",
       "    }\n",
       "\n",
       "    .dataframe tbody tr th {\n",
       "        vertical-align: top;\n",
       "    }\n",
       "\n",
       "    .dataframe thead th {\n",
       "        text-align: right;\n",
       "    }\n",
       "</style>\n",
       "<table border=\"1\" class=\"dataframe\">\n",
       "  <thead>\n",
       "    <tr style=\"text-align: right;\">\n",
       "      <th></th>\n",
       "      <th>id</th>\n",
       "      <th>ticket_id</th>\n",
       "      <th>ticket_type_nm</th>\n",
       "      <th>entrance_id</th>\n",
       "      <th>entrance_nm</th>\n",
       "      <th>station_id</th>\n",
       "      <th>station_nm</th>\n",
       "      <th>line_id</th>\n",
       "      <th>line_nm</th>\n",
       "      <th>pass_dttm</th>\n",
       "      <th>time_to_under</th>\n",
       "      <th>label</th>\n",
       "    </tr>\n",
       "  </thead>\n",
       "  <tbody>\n",
       "    <tr>\n",
       "      <th>0</th>\n",
       "      <td>1</td>\n",
       "      <td>40BD89EC85646EFB69E283F39C298E60</td>\n",
       "      <td>Пропуск FacePay</td>\n",
       "      <td>2402</td>\n",
       "      <td>Лефортово БКЛ</td>\n",
       "      <td>11007</td>\n",
       "      <td>Лефортово</td>\n",
       "      <td>11</td>\n",
       "      <td>Большая кольцевая</td>\n",
       "      <td>2022-09-12 05:00:13</td>\n",
       "      <td>216.316667</td>\n",
       "      <td>8001</td>\n",
       "    </tr>\n",
       "    <tr>\n",
       "      <th>1</th>\n",
       "      <td>2</td>\n",
       "      <td>126727A96489CC976A8C08E5CEB00542</td>\n",
       "      <td>СК учащегося 30 дней</td>\n",
       "      <td>110</td>\n",
       "      <td>Войковская ( Южный )</td>\n",
       "      <td>2006</td>\n",
       "      <td>Войковская</td>\n",
       "      <td>2</td>\n",
       "      <td>Замоскворецкая</td>\n",
       "      <td>2022-09-12 05:00:54</td>\n",
       "      <td>648.183333</td>\n",
       "      <td>9011</td>\n",
       "    </tr>\n",
       "    <tr>\n",
       "      <th>2</th>\n",
       "      <td>3</td>\n",
       "      <td>D28CE6A9E0E5B6D213470A97CFF32485</td>\n",
       "      <td>БСК дружинника г.Москвы</td>\n",
       "      <td>110</td>\n",
       "      <td>Войковская ( Южный )</td>\n",
       "      <td>2006</td>\n",
       "      <td>Войковская</td>\n",
       "      <td>2</td>\n",
       "      <td>Замоскворецкая</td>\n",
       "      <td>2022-09-12 05:00:55</td>\n",
       "      <td>865.333333</td>\n",
       "      <td>7022</td>\n",
       "    </tr>\n",
       "  </tbody>\n",
       "</table>\n",
       "</div>"
      ],
      "text/plain": [
       "   id                         ticket_id           ticket_type_nm  entrance_id  \\\n",
       "0   1  40BD89EC85646EFB69E283F39C298E60          Пропуск FacePay         2402   \n",
       "1   2  126727A96489CC976A8C08E5CEB00542     СК учащегося 30 дней          110   \n",
       "2   3  D28CE6A9E0E5B6D213470A97CFF32485  БСК дружинника г.Москвы          110   \n",
       "\n",
       "            entrance_nm  station_id  station_nm  line_id            line_nm  \\\n",
       "0         Лефортово БКЛ       11007   Лефортово       11  Большая кольцевая   \n",
       "1  Войковская ( Южный )        2006  Войковская        2     Замоскворецкая   \n",
       "2  Войковская ( Южный )        2006  Войковская        2     Замоскворецкая   \n",
       "\n",
       "             pass_dttm  time_to_under  label  \n",
       "0  2022-09-12 05:00:13     216.316667   8001  \n",
       "1  2022-09-12 05:00:54     648.183333   9011  \n",
       "2  2022-09-12 05:00:55     865.333333   7022  "
      ]
     },
     "execution_count": 5,
     "metadata": {},
     "output_type": "execute_result"
    }
   ],
   "source": [
    "df.head(3)"
   ]
  },
  {
   "cell_type": "code",
   "execution_count": 6,
   "metadata": {
    "colab": {
     "base_uri": "https://localhost:8080/"
    },
    "id": "czcOBmDFduKQ",
    "outputId": "49609192-d4dc-485f-e171-b6cc9096baaa"
   },
   "outputs": [
    {
     "name": "stdout",
     "output_type": "stream",
     "text": [
      "<class 'pandas.core.frame.DataFrame'>\n",
      "RangeIndex: 100000 entries, 0 to 99999\n",
      "Data columns (total 12 columns):\n",
      " #   Column          Non-Null Count   Dtype  \n",
      "---  ------          --------------   -----  \n",
      " 0   id              100000 non-null  int64  \n",
      " 1   ticket_id       100000 non-null  object \n",
      " 2   ticket_type_nm  100000 non-null  object \n",
      " 3   entrance_id     100000 non-null  int64  \n",
      " 4   entrance_nm     100000 non-null  object \n",
      " 5   station_id      100000 non-null  int64  \n",
      " 6   station_nm      100000 non-null  object \n",
      " 7   line_id         100000 non-null  int64  \n",
      " 8   line_nm         100000 non-null  object \n",
      " 9   pass_dttm       100000 non-null  object \n",
      " 10  time_to_under   100000 non-null  float64\n",
      " 11  label           100000 non-null  int64  \n",
      "dtypes: float64(1), int64(5), object(6)\n",
      "memory usage: 9.2+ MB\n"
     ]
    }
   ],
   "source": [
    "df.info()"
   ]
  },
  {
   "cell_type": "markdown",
   "metadata": {
    "id": "IY5yf35yNVuR"
   },
   "source": [
    "Посмотрим на распределение двух основных величин "
   ]
  },
  {
   "cell_type": "code",
   "execution_count": 7,
   "metadata": {
    "colab": {
     "base_uri": "https://localhost:8080/",
     "height": 283
    },
    "id": "ccsstA-IdxOJ",
    "outputId": "ebe811b8-ceda-4cb7-bc70-8cb00301abad"
   },
   "outputs": [
    {
     "data": {
      "text/plain": [
       "<AxesSubplot:>"
      ]
     },
     "execution_count": 7,
     "metadata": {},
     "output_type": "execute_result"
    },
    {
     "data": {
      "image/png": "[encoded data removed]",
      "text/plain": [
       "<Figure size 432x288 with 1 Axes>"
      ]
     },
     "metadata": {
      "needs_background": "light"
     },
     "output_type": "display_data"
    }
   ],
   "source": [
    "df[\"label\"].hist(bins = 100)"
   ]
  },
  {
   "cell_type": "code",
   "execution_count": 8,
   "metadata": {
    "colab": {
     "base_uri": "https://localhost:8080/",
     "height": 283
    },
    "id": "5YyJ2DkxNaZl",
    "outputId": "260535c7-e60d-441a-b29d-b6e71f2ea007"
   },
   "outputs": [
    {
     "data": {
      "text/plain": [
       "<AxesSubplot:>"
      ]
     },
     "execution_count": 8,
     "metadata": {},
     "output_type": "execute_result"
    },
    {
     "data": {
      "image/png": "[encoded data removed]",
      "text/plain": [
       "<Figure size 432x288 with 1 Axes>"
      ]
     },
     "metadata": {
      "needs_background": "light"
     },
     "output_type": "display_data"
    }
   ],
   "source": [
    "df[\"time_to_under\"].hist(bins = 100)"
   ]
  },
  {
   "cell_type": "markdown",
   "metadata": {
    "id": "s9fKKhV8edY_"
   },
   "source": [
    "Найдем наиболее популярную станцию"
   ]
  },
  {
   "cell_type": "code",
   "execution_count": 9,
   "metadata": {
    "colab": {
     "base_uri": "https://localhost:8080/"
    },
    "id": "Gq6HjkgCeQSy",
    "outputId": "74ee990e-7edc-4d66-ef1b-7474d7f3301b"
   },
   "outputs": [
    {
     "data": {
      "text/plain": [
       "3002     1502\n",
       "7022     1390\n",
       "6008     1229\n",
       "1022     1146\n",
       "5009     1135\n",
       "         ... \n",
       "14004      18\n",
       "13001       2\n",
       "13005       1\n",
       "13004       1\n",
       "13003       1\n",
       "Name: label, Length: 274, dtype: int64"
      ]
     },
     "execution_count": 9,
     "metadata": {},
     "output_type": "execute_result"
    }
   ],
   "source": [
    "df[\"label\"].value_counts()"
   ]
  },
  {
   "cell_type": "code",
   "execution_count": 10,
   "metadata": {
    "colab": {
     "base_uri": "https://localhost:8080/",
     "height": 357
    },
    "id": "HVyOBpgiNqPA",
    "outputId": "2dcd29b4-919e-4c77-c4a0-823cf068243b"
   },
   "outputs": [
    {
     "data": {
      "text/html": [
       "<div>\n",
       "<style scoped>\n",
       "    .dataframe tbody tr th:only-of-type {\n",
       "        vertical-align: middle;\n",
       "    }\n",
       "\n",
       "    .dataframe tbody tr th {\n",
       "        vertical-align: top;\n",
       "    }\n",
       "\n",
       "    .dataframe thead th {\n",
       "        text-align: right;\n",
       "    }\n",
       "</style>\n",
       "<table border=\"1\" class=\"dataframe\">\n",
       "  <thead>\n",
       "    <tr style=\"text-align: right;\">\n",
       "      <th></th>\n",
       "      <th>id</th>\n",
       "      <th>ticket_id</th>\n",
       "      <th>ticket_type_nm</th>\n",
       "      <th>entrance_id</th>\n",
       "      <th>entrance_nm</th>\n",
       "      <th>station_id</th>\n",
       "      <th>station_nm</th>\n",
       "      <th>line_id</th>\n",
       "      <th>line_nm</th>\n",
       "      <th>pass_dttm</th>\n",
       "      <th>time_to_under</th>\n",
       "      <th>label</th>\n",
       "    </tr>\n",
       "  </thead>\n",
       "  <tbody>\n",
       "    <tr>\n",
       "      <th>60</th>\n",
       "      <td>61</td>\n",
       "      <td>764D546455E294FF9ACFB1A863A10E4B</td>\n",
       "      <td>Социальная карта жителя Моск. области</td>\n",
       "      <td>218</td>\n",
       "      <td>Новогиреево (Восточный)</td>\n",
       "      <td>8003</td>\n",
       "      <td>Новогиреево</td>\n",
       "      <td>8</td>\n",
       "      <td>Калининская</td>\n",
       "      <td>2022-09-12 05:22:19</td>\n",
       "      <td>677.233333</td>\n",
       "      <td>3002</td>\n",
       "    </tr>\n",
       "    <tr>\n",
       "      <th>233</th>\n",
       "      <td>234</td>\n",
       "      <td>08C38EBE7D5FE076740767D284BC9461</td>\n",
       "      <td>90 дней ЕДИНЫЙ ТК</td>\n",
       "      <td>221</td>\n",
       "      <td>Перово (Восточный)</td>\n",
       "      <td>8005</td>\n",
       "      <td>Перово</td>\n",
       "      <td>8</td>\n",
       "      <td>Калининская</td>\n",
       "      <td>2022-09-12 05:28:54</td>\n",
       "      <td>706.883333</td>\n",
       "      <td>3002</td>\n",
       "    </tr>\n",
       "    <tr>\n",
       "      <th>307</th>\n",
       "      <td>308</td>\n",
       "      <td>F13C0CD1665DC19E1344C679EDE629B3</td>\n",
       "      <td>30 дней ЕДИНЫЙ ТК</td>\n",
       "      <td>2227</td>\n",
       "      <td>Селигерская (Второй)</td>\n",
       "      <td>10018</td>\n",
       "      <td>Селигерская</td>\n",
       "      <td>10</td>\n",
       "      <td>Люблинско-Дмитровская</td>\n",
       "      <td>2022-09-12 05:29:53</td>\n",
       "      <td>792.900000</td>\n",
       "      <td>3002</td>\n",
       "    </tr>\n",
       "    <tr>\n",
       "      <th>420</th>\n",
       "      <td>421</td>\n",
       "      <td>775F417B46D967439A38F3309F9F297C</td>\n",
       "      <td>30 дней ЕДИНЫЙ ТК</td>\n",
       "      <td>730</td>\n",
       "      <td>Дубровка</td>\n",
       "      <td>10007</td>\n",
       "      <td>Дубровка</td>\n",
       "      <td>10</td>\n",
       "      <td>Люблинско-Дмитровская</td>\n",
       "      <td>2022-09-12 05:30:24</td>\n",
       "      <td>290.266667</td>\n",
       "      <td>3002</td>\n",
       "    </tr>\n",
       "    <tr>\n",
       "      <th>526</th>\n",
       "      <td>527</td>\n",
       "      <td>402E9F04DAA4F79487D870516DE00CB5</td>\n",
       "      <td>КОШЕЛЕК</td>\n",
       "      <td>343</td>\n",
       "      <td>Сходненская (Первый)</td>\n",
       "      <td>7018</td>\n",
       "      <td>Сходненская</td>\n",
       "      <td>7</td>\n",
       "      <td>Таганско-Краснопресненская</td>\n",
       "      <td>2022-09-12 05:30:53</td>\n",
       "      <td>829.166667</td>\n",
       "      <td>3002</td>\n",
       "    </tr>\n",
       "  </tbody>\n",
       "</table>\n",
       "</div>"
      ],
      "text/plain": [
       "      id                         ticket_id  \\\n",
       "60    61  764D546455E294FF9ACFB1A863A10E4B   \n",
       "233  234  08C38EBE7D5FE076740767D284BC9461   \n",
       "307  308  F13C0CD1665DC19E1344C679EDE629B3   \n",
       "420  421  775F417B46D967439A38F3309F9F297C   \n",
       "526  527  402E9F04DAA4F79487D870516DE00CB5   \n",
       "\n",
       "                            ticket_type_nm  entrance_id  \\\n",
       "60   Социальная карта жителя Моск. области          218   \n",
       "233                      90 дней ЕДИНЫЙ ТК          221   \n",
       "307                      30 дней ЕДИНЫЙ ТК         2227   \n",
       "420                      30 дней ЕДИНЫЙ ТК          730   \n",
       "526                                КОШЕЛЕК          343   \n",
       "\n",
       "                 entrance_nm  station_id   station_nm  line_id  \\\n",
       "60   Новогиреево (Восточный)        8003  Новогиреево        8   \n",
       "233       Перово (Восточный)        8005       Перово        8   \n",
       "307     Селигерская (Второй)       10018  Селигерская       10   \n",
       "420                 Дубровка       10007     Дубровка       10   \n",
       "526     Сходненская (Первый)        7018  Сходненская        7   \n",
       "\n",
       "                        line_nm            pass_dttm  time_to_under  label  \n",
       "60                  Калининская  2022-09-12 05:22:19     677.233333   3002  \n",
       "233                 Калининская  2022-09-12 05:28:54     706.883333   3002  \n",
       "307       Люблинско-Дмитровская  2022-09-12 05:29:53     792.900000   3002  \n",
       "420       Люблинско-Дмитровская  2022-09-12 05:30:24     290.266667   3002  \n",
       "526  Таганско-Краснопресненская  2022-09-12 05:30:53     829.166667   3002  "
      ]
     },
     "execution_count": 10,
     "metadata": {},
     "output_type": "execute_result"
    }
   ],
   "source": [
    "df[df[\"label\"] == int(df[\"label\"].value_counts().index[0])].head()"
   ]
  },
  {
   "cell_type": "markdown",
   "metadata": {
    "id": "QTOLeRlMerAm"
   },
   "source": [
    "Сделаем категорию **\"ticket_type_nm\"** раноговой "
   ]
  },
  {
   "cell_type": "code",
   "execution_count": 11,
   "metadata": {
    "colab": {
     "base_uri": "https://localhost:8080/"
    },
    "id": "Ydb_kzQlOfCP",
    "outputId": "5bd0c97e-b38e-40ba-dba7-c0a27a6468e1"
   },
   "outputs": [
    {
     "data": {
      "text/plain": [
       "КОШЕЛЕК                                                   23469\n",
       "30 дней ЕДИНЫЙ ТК                                         18368\n",
       "Социальная карта москвича                                 11364\n",
       "30 дней                                                   10862\n",
       "90 дней ЕДИНЫЙ ТК                                          6097\n",
       "60 поездок ЕДИНЫЙ ТК                                       5210\n",
       "30 дней Пригород ТК                                        4822\n",
       "30 дней СК студента                                        2603\n",
       "СК студента 30 дней                                        2291\n",
       "365 дней ЕДИНЫЙ ТК                                         2189\n",
       "30 дней СК учащегося                                       2038\n",
       "ББК                                                        2005\n",
       "СК учащегося 30 дней                                       1588\n",
       "Социальная карта жителя Моск. области                      1553\n",
       "90 дней                                                    1142\n",
       "Пропуск FacePay                                             892\n",
       "СК студента 90 дней                                         425\n",
       "СК учащегося 90 дней                                        320\n",
       "СК для сотрудника ГУВД г.Москвы                             309\n",
       "БСК дружинника г.Москвы                                     305\n",
       "30 дней  Пригород                                           262\n",
       "90 дней Пригород ТК                                         237\n",
       "ВЕСБ МОСКВА (7мин)                                          221\n",
       "Социальная карта москвича с сопровождающим                  197\n",
       "90 дней СК учащегося                                        162\n",
       "90 дней СК студента                                         154\n",
       "365 дней Пригород ТК                                        129\n",
       "СК ординатора 30 дней                                       119\n",
       "30 дней СК ординатора                                       113\n",
       "365 дней                                                     74\n",
       "30 дней СК аспиранта                                         69\n",
       "СК аспиранта 30 дней                                         67\n",
       "Пропуск сотрудника УВД по охране Метрополитена               59\n",
       "СК ординатора 90 дней                                        45\n",
       "СК аспиранта 90 дней                                         45\n",
       "Ультралайт Единый (70)                                       30\n",
       "Социальная карта жителя Моск. области с сопровождающим       29\n",
       "ВЕСБ МО (7 мин)                                              23\n",
       "90 дней  Пригород                                            20\n",
       "90 дней СК ординатора                                        14\n",
       "Временный билет ММ                                           13\n",
       "3 суток Единый ТК                                             9\n",
       "ВЕСБ МОСКВА                                                   8\n",
       "Пропуск сотрудника  метрополитена                             8\n",
       "Безналичная транспортная карта                                7\n",
       "ВЕСБ МО (тип 5)                                               6\n",
       "Пропуск  сотрудника МЦК                                       6\n",
       "1 сутки ЕДИНЫЙ ТК                                             5\n",
       "90 дней СК аспиранта                                          5\n",
       "Пропуск руководителя метрополитена                            4\n",
       "365 дней  Пригород                                            3\n",
       "1 сутки Пригород ТК                                           3\n",
       "ВЛБ МОСКВА                                                    1\n",
       "ВЕСБ МО с сопровождающим                                      1\n",
       "Name: ticket_type_nm, dtype: int64"
      ]
     },
     "execution_count": 11,
     "metadata": {},
     "output_type": "execute_result"
    }
   ],
   "source": [
    "df[\"ticket_type_nm\"].value_counts()"
   ]
  },
  {
   "cell_type": "code",
   "execution_count": 12,
   "metadata": {
    "id": "wuSmnOhneooh"
   },
   "outputs": [],
   "source": [
    "df[\"ticket_type_nm\"] = pd.Categorical(df[\"ticket_type_nm\"])\n",
    "df[\"ticket_type_nm\"].astype('category').cat.codes\n",
    "df[\"ticket_type_nm\"] = df[\"ticket_type_nm\"].cat.codes"
   ]
  },
  {
   "cell_type": "code",
   "execution_count": 13,
   "metadata": {
    "colab": {
     "base_uri": "https://localhost:8080/",
     "height": 516
    },
    "id": "F03Pcva-fEVi",
    "outputId": "23aef922-9ed4-4f10-d8e3-640c51b830b5"
   },
   "outputs": [
    {
     "data": {
      "text/plain": [
       "<AxesSubplot:xlabel='ticket_type_nm', ylabel='count'>"
      ]
     },
     "execution_count": 13,
     "metadata": {},
     "output_type": "execute_result"
    },
    {
     "data": {
      "image/png": "[encoded data removed]",
      "text/plain": [
       "<Figure size 1080x576 with 1 Axes>"
      ]
     },
     "metadata": {
      "needs_background": "light"
     },
     "output_type": "display_data"
    }
   ],
   "source": [
    "plt.figure(figsize=(15,8))\n",
    "sns.countplot(x = \"ticket_type_nm\" , data  = df)  "
   ]
  },
  {
   "cell_type": "markdown",
   "metadata": {
    "id": "9treu6dEfnd6"
   },
   "source": [
    "Кажется нет четкой зависимости между категорией билета и временем между заходи на станцию"
   ]
  },
  {
   "cell_type": "code",
   "execution_count": 14,
   "metadata": {
    "colab": {
     "base_uri": "https://localhost:8080/",
     "height": 459
    },
    "id": "OH-8nXJ5fJAX",
    "outputId": "55f5ec51-ba31-445b-8934-2cdb6bfc706e"
   },
   "outputs": [
    {
     "data": {
      "text/plain": [
       "<seaborn.axisgrid.JointGrid at 0x7fe6fdda8790>"
      ]
     },
     "execution_count": 14,
     "metadata": {},
     "output_type": "execute_result"
    },
    {
     "data": {
      "image/png": "[encoded data removed]",
      "text/plain": [
       "<Figure size 432x432 with 3 Axes>"
      ]
     },
     "metadata": {
      "needs_background": "light"
     },
     "output_type": "display_data"
    }
   ],
   "source": [
    "sns.jointplot(x = \"ticket_type_nm\", y = 'time_to_under', data = df, kind = 'reg')"
   ]
  },
  {
   "cell_type": "markdown",
   "metadata": {
    "id": "6akkv0A1gJ0i"
   },
   "source": [
    "Видоизменим категорию **\"pass_dttm\"**  "
   ]
  },
  {
   "cell_type": "code",
   "execution_count": 15,
   "metadata": {
    "id": "DPEIPif0gxna"
   },
   "outputs": [],
   "source": [
    "df[\"day\"] = df.pass_dttm.map(lambda x: int(x.split(\"-\")[2].split(\" \")[0]))\n",
    "df[\"hours\"] = df.pass_dttm.map(lambda x: int(x.split(\"-\")[2].split(\" \")[1].split(\":\")[0]))"
   ]
  },
  {
   "cell_type": "markdown",
   "metadata": {
    "id": "I9tE-DlZhF7M"
   },
   "source": [
    "Добавим новый столбец в датсет и взглянем на то что у нас получилось"
   ]
  },
  {
   "cell_type": "code",
   "execution_count": 16,
   "metadata": {
    "colab": {
     "base_uri": "https://localhost:8080/",
     "height": 260
    },
    "id": "RJsQl2nZgjnR",
    "outputId": "2b7e695d-69c8-408b-970d-f9dd68980708"
   },
   "outputs": [
    {
     "data": {
      "text/html": [
       "<div>\n",
       "<style scoped>\n",
       "    .dataframe tbody tr th:only-of-type {\n",
       "        vertical-align: middle;\n",
       "    }\n",
       "\n",
       "    .dataframe tbody tr th {\n",
       "        vertical-align: top;\n",
       "    }\n",
       "\n",
       "    .dataframe thead th {\n",
       "        text-align: right;\n",
       "    }\n",
       "</style>\n",
       "<table border=\"1\" class=\"dataframe\">\n",
       "  <thead>\n",
       "    <tr style=\"text-align: right;\">\n",
       "      <th></th>\n",
       "      <th>id</th>\n",
       "      <th>ticket_id</th>\n",
       "      <th>ticket_type_nm</th>\n",
       "      <th>entrance_id</th>\n",
       "      <th>entrance_nm</th>\n",
       "      <th>station_id</th>\n",
       "      <th>station_nm</th>\n",
       "      <th>line_id</th>\n",
       "      <th>line_nm</th>\n",
       "      <th>pass_dttm</th>\n",
       "      <th>time_to_under</th>\n",
       "      <th>label</th>\n",
       "      <th>day</th>\n",
       "      <th>hours</th>\n",
       "    </tr>\n",
       "  </thead>\n",
       "  <tbody>\n",
       "    <tr>\n",
       "      <th>0</th>\n",
       "      <td>1</td>\n",
       "      <td>40BD89EC85646EFB69E283F39C298E60</td>\n",
       "      <td>36</td>\n",
       "      <td>2402</td>\n",
       "      <td>Лефортово БКЛ</td>\n",
       "      <td>11007</td>\n",
       "      <td>Лефортово</td>\n",
       "      <td>11</td>\n",
       "      <td>Большая кольцевая</td>\n",
       "      <td>2022-09-12 05:00:13</td>\n",
       "      <td>216.316667</td>\n",
       "      <td>8001</td>\n",
       "      <td>12</td>\n",
       "      <td>5</td>\n",
       "    </tr>\n",
       "    <tr>\n",
       "      <th>1</th>\n",
       "      <td>2</td>\n",
       "      <td>126727A96489CC976A8C08E5CEB00542</td>\n",
       "      <td>47</td>\n",
       "      <td>110</td>\n",
       "      <td>Войковская ( Южный )</td>\n",
       "      <td>2006</td>\n",
       "      <td>Войковская</td>\n",
       "      <td>2</td>\n",
       "      <td>Замоскворецкая</td>\n",
       "      <td>2022-09-12 05:00:54</td>\n",
       "      <td>648.183333</td>\n",
       "      <td>9011</td>\n",
       "      <td>12</td>\n",
       "      <td>5</td>\n",
       "    </tr>\n",
       "    <tr>\n",
       "      <th>2</th>\n",
       "      <td>3</td>\n",
       "      <td>D28CE6A9E0E5B6D213470A97CFF32485</td>\n",
       "      <td>25</td>\n",
       "      <td>110</td>\n",
       "      <td>Войковская ( Южный )</td>\n",
       "      <td>2006</td>\n",
       "      <td>Войковская</td>\n",
       "      <td>2</td>\n",
       "      <td>Замоскворецкая</td>\n",
       "      <td>2022-09-12 05:00:55</td>\n",
       "      <td>865.333333</td>\n",
       "      <td>7022</td>\n",
       "      <td>12</td>\n",
       "      <td>5</td>\n",
       "    </tr>\n",
       "  </tbody>\n",
       "</table>\n",
       "</div>"
      ],
      "text/plain": [
       "   id                         ticket_id  ticket_type_nm  entrance_id  \\\n",
       "0   1  40BD89EC85646EFB69E283F39C298E60              36         2402   \n",
       "1   2  126727A96489CC976A8C08E5CEB00542              47          110   \n",
       "2   3  D28CE6A9E0E5B6D213470A97CFF32485              25          110   \n",
       "\n",
       "            entrance_nm  station_id  station_nm  line_id            line_nm  \\\n",
       "0         Лефортово БКЛ       11007   Лефортово       11  Большая кольцевая   \n",
       "1  Войковская ( Южный )        2006  Войковская        2     Замоскворецкая   \n",
       "2  Войковская ( Южный )        2006  Войковская        2     Замоскворецкая   \n",
       "\n",
       "             pass_dttm  time_to_under  label  day  hours  \n",
       "0  2022-09-12 05:00:13     216.316667   8001   12      5  \n",
       "1  2022-09-12 05:00:54     648.183333   9011   12      5  \n",
       "2  2022-09-12 05:00:55     865.333333   7022   12      5  "
      ]
     },
     "execution_count": 16,
     "metadata": {},
     "output_type": "execute_result"
    }
   ],
   "source": [
    "df.head(3)"
   ]
  },
  {
   "cell_type": "code",
   "execution_count": 17,
   "metadata": {
    "colab": {
     "base_uri": "https://localhost:8080/",
     "height": 850
    },
    "id": "LQNuW50pgJYa",
    "outputId": "65403205-e8be-4e9a-d6d2-279c3c8c04f0"
   },
   "outputs": [
    {
     "data": {
      "image/png": "[encoded data removed]",
      "text/plain": [
       "<Figure size 1080x1080 with 2 Axes>"
      ]
     },
     "metadata": {
      "needs_background": "light"
     },
     "output_type": "display_data"
    }
   ],
   "source": [
    "plt.rcParams['figure.figsize']=(15,15)\n",
    "\n",
    "corr = df.corr()\n",
    "g = sns.heatmap(corr, square = True, annot=True)"
   ]
  },
  {
   "cell_type": "markdown",
   "metadata": {
    "id": "WIFh_dnOhj1V"
   },
   "source": [
    "## Выделим выборки"
   ]
  },
  {
   "cell_type": "code",
   "execution_count": 18,
   "metadata": {
    "id": "mkCL9b-8hmZ1"
   },
   "outputs": [],
   "source": [
    "X = df.drop([\"ticket_id\", \"entrance_nm\", \"station_nm\", \"line_nm\", \"pass_dttm\", \"label\",\"time_to_under\"], axis = 1)\n",
    "y = df[[\"time_to_under\", \"label\"]]"
   ]
  },
  {
   "cell_type": "code",
   "execution_count": 19,
   "metadata": {
    "id": "NfIOX9Lbik_i"
   },
   "outputs": [],
   "source": [
    "X_train, X_test, y_train, y_test = train_test_split(X, y, test_size=0.3, random_state=42)"
   ]
  },
  {
   "cell_type": "code",
   "execution_count": 20,
   "metadata": {
    "colab": {
     "base_uri": "https://localhost:8080/",
     "height": 424
    },
    "id": "8DMXViK5SLpd",
    "outputId": "b6afedf5-05ec-4f40-fb16-aeb2b2571d2c"
   },
   "outputs": [],
   "source": [
    "y_train = y_train.reset_index(drop=True)\n",
    "y_test = y_test.reset_index(drop=True)"
   ]
  },
  {
   "cell_type": "code",
   "execution_count": 21,
   "metadata": {},
   "outputs": [],
   "source": [
    "X_train = X_train.reset_index(drop=True)\n",
    "X_test = X_test.reset_index(drop=True)"
   ]
  },
  {
   "cell_type": "markdown",
   "metadata": {
    "id": "60NotS9ehbO5"
   },
   "source": [
    "## Обучение модели"
   ]
  },
  {
   "cell_type": "markdown",
   "metadata": {
    "id": "uZW02LaeSVpa"
   },
   "source": [
    "Для станции "
   ]
  },
  {
   "cell_type": "code",
   "execution_count": 22,
   "metadata": {
    "id": "jc-KKFlWf6_N"
   },
   "outputs": [],
   "source": [
    "from sklearn.model_selection import GridSearchCV\n",
    "\n",
    "param_grid = { 'n_estimators': range (10, 51, 10),\n",
    "              'max_depth': range (1,13, 2),\n",
    "              'min_samples_leaf': range (1,8),\n",
    "              'min_samples_split': range (2,10,2)}\n",
    "\n",
    "clf = RandomForestClassifier(random_state=42)\n",
    "\n",
    "grid = GridSearchCV(clf, param_grid, cv=5)\n",
    "grid.fit(X_train, y_train['label'])"
   ]
  },
  {
   "cell_type": "code",
   "execution_count": 23,
   "metadata": {
    "colab": {
     "base_uri": "https://localhost:8080/"
    },
    "id": "bc8JAH4yf7Bs",
    "outputId": "0d306e85-02df-4e0f-e83e-33c93b40a20a"
   },
   "outputs": [
    {
     "data": {
      "text/html": [
       "<style>#sk-container-id-1 {color: black;background-color: white;}#sk-container-id-1 pre{padding: 0;}#sk-container-id-1 div.sk-toggleable {background-color: white;}#sk-container-id-1 label.sk-toggleable__label {cursor: pointer;display: block;width: 100%;margin-bottom: 0;padding: 0.3em;box-sizing: border-box;text-align: center;}#sk-container-id-1 label.sk-toggleable__label-arrow:before {content: \"▸\";float: left;margin-right: 0.25em;color: #696969;}#sk-container-id-1 label.sk-toggleable__label-arrow:hover:before {color: black;}#sk-container-id-1 div.sk-estimator:hover label.sk-toggleable__label-arrow:before {color: black;}#sk-container-id-1 div.sk-toggleable__content {max-height: 0;max-width: 0;overflow: hidden;text-align: left;background-color: #f0f8ff;}#sk-container-id-1 div.sk-toggleable__content pre {margin: 0.2em;color: black;border-radius: 0.25em;background-color: #f0f8ff;}#sk-container-id-1 input.sk-toggleable__control:checked~div.sk-toggleable__content {max-height: 200px;max-width: 100%;overflow: auto;}#sk-container-id-1 input.sk-toggleable__control:checked~label.sk-toggleable__label-arrow:before {content: \"▾\";}#sk-container-id-1 div.sk-estimator input.sk-toggleable__control:checked~label.sk-toggleable__label {background-color: #d4ebff;}#sk-container-id-1 div.sk-label input.sk-toggleable__control:checked~label.sk-toggleable__label {background-color: #d4ebff;}#sk-container-id-1 input.sk-hidden--visually {border: 0;clip: rect(1px 1px 1px 1px);clip: rect(1px, 1px, 1px, 1px);height: 1px;margin: -1px;overflow: hidden;padding: 0;position: absolute;width: 1px;}#sk-container-id-1 div.sk-estimator {font-family: monospace;background-color: #f0f8ff;border: 1px dotted black;border-radius: 0.25em;box-sizing: border-box;margin-bottom: 0.5em;}#sk-container-id-1 div.sk-estimator:hover {background-color: #d4ebff;}#sk-container-id-1 div.sk-parallel-item::after {content: \"\";width: 100%;border-bottom: 1px solid gray;flex-grow: 1;}#sk-container-id-1 div.sk-label:hover label.sk-toggleable__label {background-color: #d4ebff;}#sk-container-id-1 div.sk-serial::before {content: \"\";position: absolute;border-left: 1px solid gray;box-sizing: border-box;top: 0;bottom: 0;left: 50%;z-index: 0;}#sk-container-id-1 div.sk-serial {display: flex;flex-direction: column;align-items: center;background-color: white;padding-right: 0.2em;padding-left: 0.2em;position: relative;}#sk-container-id-1 div.sk-item {position: relative;z-index: 1;}#sk-container-id-1 div.sk-parallel {display: flex;align-items: stretch;justify-content: center;background-color: white;position: relative;}#sk-container-id-1 div.sk-item::before, #sk-container-id-1 div.sk-parallel-item::before {content: \"\";position: absolute;border-left: 1px solid gray;box-sizing: border-box;top: 0;bottom: 0;left: 50%;z-index: -1;}#sk-container-id-1 div.sk-parallel-item {display: flex;flex-direction: column;z-index: 1;position: relative;background-color: white;}#sk-container-id-1 div.sk-parallel-item:first-child::after {align-self: flex-end;width: 50%;}#sk-container-id-1 div.sk-parallel-item:last-child::after {align-self: flex-start;width: 50%;}#sk-container-id-1 div.sk-parallel-item:only-child::after {width: 0;}#sk-container-id-1 div.sk-dashed-wrapped {border: 1px dashed gray;margin: 0 0.4em 0.5em 0.4em;box-sizing: border-box;padding-bottom: 0.4em;background-color: white;}#sk-container-id-1 div.sk-label label {font-family: monospace;font-weight: bold;display: inline-block;line-height: 1.2em;}#sk-container-id-1 div.sk-label-container {text-align: center;}#sk-container-id-1 div.sk-container {/* jupyter's `normalize.less` sets `[hidden] { display: none; }` but bootstrap.min.css set `[hidden] { display: none !important; }` so we also need the `!important` here to be able to override the default hidden behavior on the sphinx rendered scikit-learn.org. See: https://github.com/scikit-learn/scikit-learn/issues/21755 */display: inline-block !important;position: relative;}#sk-container-id-1 div.sk-text-repr-fallback {display: none;}</style><div id=\"sk-container-id-1\" class=\"sk-top-container\"><div class=\"sk-text-repr-fallback\"><pre>RandomForestClassifier(random_state=0)</pre><b>In a Jupyter environment, please rerun this cell to show the HTML representation or trust the notebook. <br />On GitHub, the HTML representation is unable to render, please try loading this page with nbviewer.org.</b></div><div class=\"sk-container\" hidden><div class=\"sk-item\"><div class=\"sk-estimator sk-toggleable\"><input class=\"sk-toggleable__control sk-hidden--visually\" id=\"sk-estimator-id-1\" type=\"checkbox\" checked><label for=\"sk-estimator-id-1\" class=\"sk-toggleable__label sk-toggleable__label-arrow\">RandomForestClassifier</label><div class=\"sk-toggleable__content\"><pre>RandomForestClassifier(random_state=0)</pre></div></div></div></div></div>"
      ],
      "text/plain": [
       "RandomForestClassifier(random_state=0)"
      ]
     },
     "execution_count": 23,
     "metadata": {},
     "output_type": "execute_result"
    }
   ],
   "source": [
    "clf.fit(X_train, y_train[\"label\"])"
   ]
  },
  {
   "cell_type": "markdown",
   "metadata": {
    "id": "bWkUCLOfSYGU"
   },
   "source": [
    "Для времени"
   ]
  },
  {
   "cell_type": "code",
   "execution_count": 24,
   "metadata": {
    "id": "dJOInUHASalQ"
   },
   "outputs": [],
   "source": [
    "reg = RandomForestRegressor(random_state=0)"
   ]
  },
  {
   "cell_type": "code",
   "execution_count": 25,
   "metadata": {
    "colab": {
     "base_uri": "https://localhost:8080/"
    },
    "id": "bSwqI6szSsm0",
    "outputId": "941b2e16-2eae-4f32-d9a6-e59da6efdb50"
   },
   "outputs": [
    {
     "data": {
      "text/html": [
       "<style>#sk-container-id-2 {color: black;background-color: white;}#sk-container-id-2 pre{padding: 0;}#sk-container-id-2 div.sk-toggleable {background-color: white;}#sk-container-id-2 label.sk-toggleable__label {cursor: pointer;display: block;width: 100%;margin-bottom: 0;padding: 0.3em;box-sizing: border-box;text-align: center;}#sk-container-id-2 label.sk-toggleable__label-arrow:before {content: \"▸\";float: left;margin-right: 0.25em;color: #696969;}#sk-container-id-2 label.sk-toggleable__label-arrow:hover:before {color: black;}#sk-container-id-2 div.sk-estimator:hover label.sk-toggleable__label-arrow:before {color: black;}#sk-container-id-2 div.sk-toggleable__content {max-height: 0;max-width: 0;overflow: hidden;text-align: left;background-color: #f0f8ff;}#sk-container-id-2 div.sk-toggleable__content pre {margin: 0.2em;color: black;border-radius: 0.25em;background-color: #f0f8ff;}#sk-container-id-2 input.sk-toggleable__control:checked~div.sk-toggleable__content {max-height: 200px;max-width: 100%;overflow: auto;}#sk-container-id-2 input.sk-toggleable__control:checked~label.sk-toggleable__label-arrow:before {content: \"▾\";}#sk-container-id-2 div.sk-estimator input.sk-toggleable__control:checked~label.sk-toggleable__label {background-color: #d4ebff;}#sk-container-id-2 div.sk-label input.sk-toggleable__control:checked~label.sk-toggleable__label {background-color: #d4ebff;}#sk-container-id-2 input.sk-hidden--visually {border: 0;clip: rect(1px 1px 1px 1px);clip: rect(1px, 1px, 1px, 1px);height: 1px;margin: -1px;overflow: hidden;padding: 0;position: absolute;width: 1px;}#sk-container-id-2 div.sk-estimator {font-family: monospace;background-color: #f0f8ff;border: 1px dotted black;border-radius: 0.25em;box-sizing: border-box;margin-bottom: 0.5em;}#sk-container-id-2 div.sk-estimator:hover {background-color: #d4ebff;}#sk-container-id-2 div.sk-parallel-item::after {content: \"\";width: 100%;border-bottom: 1px solid gray;flex-grow: 1;}#sk-container-id-2 div.sk-label:hover label.sk-toggleable__label {background-color: #d4ebff;}#sk-container-id-2 div.sk-serial::before {content: \"\";position: absolute;border-left: 1px solid gray;box-sizing: border-box;top: 0;bottom: 0;left: 50%;z-index: 0;}#sk-container-id-2 div.sk-serial {display: flex;flex-direction: column;align-items: center;background-color: white;padding-right: 0.2em;padding-left: 0.2em;position: relative;}#sk-container-id-2 div.sk-item {position: relative;z-index: 1;}#sk-container-id-2 div.sk-parallel {display: flex;align-items: stretch;justify-content: center;background-color: white;position: relative;}#sk-container-id-2 div.sk-item::before, #sk-container-id-2 div.sk-parallel-item::before {content: \"\";position: absolute;border-left: 1px solid gray;box-sizing: border-box;top: 0;bottom: 0;left: 50%;z-index: -1;}#sk-container-id-2 div.sk-parallel-item {display: flex;flex-direction: column;z-index: 1;position: relative;background-color: white;}#sk-container-id-2 div.sk-parallel-item:first-child::after {align-self: flex-end;width: 50%;}#sk-container-id-2 div.sk-parallel-item:last-child::after {align-self: flex-start;width: 50%;}#sk-container-id-2 div.sk-parallel-item:only-child::after {width: 0;}#sk-container-id-2 div.sk-dashed-wrapped {border: 1px dashed gray;margin: 0 0.4em 0.5em 0.4em;box-sizing: border-box;padding-bottom: 0.4em;background-color: white;}#sk-container-id-2 div.sk-label label {font-family: monospace;font-weight: bold;display: inline-block;line-height: 1.2em;}#sk-container-id-2 div.sk-label-container {text-align: center;}#sk-container-id-2 div.sk-container {/* jupyter's `normalize.less` sets `[hidden] { display: none; }` but bootstrap.min.css set `[hidden] { display: none !important; }` so we also need the `!important` here to be able to override the default hidden behavior on the sphinx rendered scikit-learn.org. See: https://github.com/scikit-learn/scikit-learn/issues/21755 */display: inline-block !important;position: relative;}#sk-container-id-2 div.sk-text-repr-fallback {display: none;}</style><div id=\"sk-container-id-2\" class=\"sk-top-container\"><div class=\"sk-text-repr-fallback\"><pre>RandomForestRegressor(random_state=0)</pre><b>In a Jupyter environment, please rerun this cell to show the HTML representation or trust the notebook. <br />On GitHub, the HTML representation is unable to render, please try loading this page with nbviewer.org.</b></div><div class=\"sk-container\" hidden><div class=\"sk-item\"><div class=\"sk-estimator sk-toggleable\"><input class=\"sk-toggleable__control sk-hidden--visually\" id=\"sk-estimator-id-2\" type=\"checkbox\" checked><label for=\"sk-estimator-id-2\" class=\"sk-toggleable__label sk-toggleable__label-arrow\">RandomForestRegressor</label><div class=\"sk-toggleable__content\"><pre>RandomForestRegressor(random_state=0)</pre></div></div></div></div></div>"
      ],
      "text/plain": [
       "RandomForestRegressor(random_state=0)"
      ]
     },
     "execution_count": 25,
     "metadata": {},
     "output_type": "execute_result"
    }
   ],
   "source": [
    "reg.fit(X_train, y_train[\"time_to_under\"])"
   ]
  },
  {
   "cell_type": "markdown",
   "metadata": {
    "id": "6Y60HHS5jKeN"
   },
   "source": [
    "## Оценка точности"
   ]
  },
  {
   "cell_type": "code",
   "execution_count": 26,
   "metadata": {
    "id": "UV0kmZqGf7D-"
   },
   "outputs": [],
   "source": [
    "pred_class = clf.predict(X_test)\n",
    "pred_reg = reg.predict(X_test)"
   ]
  },
  {
   "cell_type": "code",
   "execution_count": 27,
   "metadata": {
    "colab": {
     "base_uri": "https://localhost:8080/"
    },
    "id": "AgEZTGYujQMW",
    "outputId": "e326b73a-a2db-4722-e07c-97089b971978"
   },
   "outputs": [
    {
     "name": "stderr",
     "output_type": "stream",
     "text": [
      "/Users/speedyracer/opt/anaconda3/lib/python3.8/site-packages/sklearn/metrics/_classification.py:1327: UndefinedMetricWarning: Recall is ill-defined and being set to 0.0 in labels with no true samples. Use `zero_division` parameter to control this behavior.\n",
      "  _warn_prf(average, modifier, msg_start, len(result))\n"
     ]
    },
    {
     "data": {
      "text/plain": [
       "0.05389206301109081"
      ]
     },
     "execution_count": 27,
     "metadata": {},
     "output_type": "execute_result"
    }
   ],
   "source": [
    "from sklearn.metrics import recall_score, r2_score\n",
    "\n",
    "\n",
    "score = 0.5 * recall_score(y_test[\"label\"], pred_class , average='macro') +  0.5 * r2_score(y_test[\"time_to_under\"], pred_reg)\n",
    "score"
   ]
  },
  {
   "cell_type": "code",
   "execution_count": 28,
   "metadata": {},
   "outputs": [
    {
     "data": {
      "text/plain": [
       "0         1005\n",
       "1        11014\n",
       "2         4006\n",
       "3         2009\n",
       "4         7014\n",
       "         ...  \n",
       "29995     9011\n",
       "29996     3019\n",
       "29997     7001\n",
       "29998     5006\n",
       "29999    10013\n",
       "Name: label, Length: 30000, dtype: int64"
      ]
     },
     "execution_count": 28,
     "metadata": {},
     "output_type": "execute_result"
    }
   ],
   "source": [
    "y_test[\"label\"]"
   ]
  },
  {
   "cell_type": "code",
   "execution_count": 29,
   "metadata": {},
   "outputs": [
    {
     "data": {
      "text/plain": [
       "array([ 5001,  9009,  5002, ..., 15002,  1019,  1002])"
      ]
     },
     "execution_count": 29,
     "metadata": {},
     "output_type": "execute_result"
    }
   ],
   "source": [
    "pred_class"
   ]
  },
  {
   "cell_type": "code",
   "execution_count": null,
   "metadata": {},
   "outputs": [],
   "source": []
  }
 ],
 "metadata": {
  "colab": {
   "provenance": []
  },
  "kernelspec": {
   "display_name": "Python 3",
   "language": "python",
   "name": "python3"
  },
  "language_info": {
   "codemirror_mode": {
    "name": "ipython",
    "version": 3
   },
   "file_extension": ".py",
   "mimetype": "text/x-python",
   "name": "python",
   "nbconvert_exporter": "python",
   "pygments_lexer": "ipython3",
   "version": "3.8.2"
  }
 },
 "nbformat": 4,
 "nbformat_minor": 1
}
