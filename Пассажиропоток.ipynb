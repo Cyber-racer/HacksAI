{
 "cells": [
  {
   "cell_type": "markdown",
   "metadata": {},
   "source": [
    "Вытаскиваем данные о статистике посещаемости с станций"
   ]
  },
  {
   "cell_type": "code",
   "execution_count": 154,
   "metadata": {},
   "outputs": [],
   "source": [
    "st = pd.read_csv(\"Entry_statistics.csv\", encoding='Windows-1251', sep=';')\n",
    "st = st[1:]\n",
    "st.drop(['NameOfStation_en','Line_en','Year_en','Quarter_en','IncomingPassengers_en','OutgoingPassengers_en', 'Unnamed: 13'], axis=1, inplace=True)"
   ]
  },
  {
   "cell_type": "code",
   "execution_count": 155,
   "metadata": {},
   "outputs": [],
   "source": [
    "st['OutgoingPassengers']= pd.to_numeric(st['OutgoingPassengers'])\n",
    "st['Year']= pd.to_numeric(st['Year'])\n",
    "st['IncomingPassengers']= pd.to_numeric(st['IncomingPassengers'])\n",
    "st = st[st['IncomingPassengers']!=0]\n",
    "st = st[st['OutgoingPassengers']!=0]"
   ]
  },
  {
   "cell_type": "code",
   "execution_count": 156,
   "metadata": {},
   "outputs": [],
   "source": [
    "out = st.sort_values(['Year', 'Quarter'], ascending=False).drop_duplicates(['NameOfStation', 'Line'], keep='first')"
   ]
  },
  {
   "cell_type": "code",
   "execution_count": 157,
   "metadata": {},
   "outputs": [],
   "source": [
    "out = out.drop(['Year', 'Quarter', 'global_id'], axis = 1)"
   ]
  },
  {
   "cell_type": "code",
   "execution_count": 158,
   "metadata": {},
   "outputs": [],
   "source": [
    "out['Line'] = out['Line'].apply(lambda x: x.replace(' Линия', ''))\n",
    "out['Line'] = out['Line'].apply(lambda x: x.replace(' линия', ''))\n",
    "out['Line'] = out['Line'].apply(lambda x: x.replace(' Лёгкого метро', ''))\n",
    "out['Line'] = out['Line'].apply(lambda x: x.replace('Московская монорельсовая транспортная система', 'Монорельс'))"
   ]
  },
  {
   "cell_type": "code",
   "execution_count": 159,
   "metadata": {},
   "outputs": [],
   "source": [
    "out['NameOfStation'] = out['NameOfStation'].apply(lambda x: x.replace('адмирала', 'Адмирала'))\n",
    "out['NameOfStation'] = out['NameOfStation'].apply(lambda x: x.replace('ворота', 'Ворота'))\n",
    "out['NameOfStation'] = out['NameOfStation'].apply(lambda x: x.replace('роща', 'Роща'))\n",
    "out['NameOfStation'] = out['NameOfStation'].apply(lambda x: x.replace('Гора', 'гора'))\n",
    "out['NameOfStation'] = out['NameOfStation'].apply(lambda x: x.replace('стан', 'Стан'))\n",
    "out['NameOfStation'] = out['NameOfStation'].apply(lambda x: x.replace('академика', 'Академика'))\n",
    "out['NameOfStation'] = out['NameOfStation'].apply(lambda x: x.replace('улица', 'Улица'))\n",
    "out['NameOfStation'] = out['NameOfStation'].apply(lambda x: x.replace(' Сергея', ''))"
   ]
  },
  {
   "cell_type": "code",
   "execution_count": 160,
   "metadata": {},
   "outputs": [],
   "source": [
    "out = out.rename(columns= {'NameOfStation': 'station_nm', 'Line': 'line_nm'})"
   ]
  },
  {
   "cell_type": "code",
   "execution_count": 161,
   "metadata": {},
   "outputs": [],
   "source": [
    "out.to_csv('сount_data.csv')"
   ]
  },
  {
   "cell_type": "code",
   "execution_count": null,
   "metadata": {},
   "outputs": [],
   "source": []
  },
  {
   "cell_type": "code",
   "execution_count": null,
   "metadata": {},
   "outputs": [],
   "source": []
  }
 ],
 "metadata": {
  "kernelspec": {
   "display_name": "Python 3",
   "language": "python",
   "name": "python3"
  },
  "language_info": {
   "codemirror_mode": {
    "name": "ipython",
    "version": 3
   },
   "file_extension": ".py",
   "mimetype": "text/x-python",
   "name": "python",
   "nbconvert_exporter": "python",
   "pygments_lexer": "ipython3",
   "version": "3.8.2"
  }
 },
 "nbformat": 4,
 "nbformat_minor": 4
}
